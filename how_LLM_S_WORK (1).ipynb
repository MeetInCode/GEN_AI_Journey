{
  "nbformat": 4,
  "nbformat_minor": 0,
  "metadata": {
    "colab": {
      "provenance": []
    },
    "kernelspec": {
      "name": "python3",
      "display_name": "Python 3"
    },
    "language_info": {
      "name": "python"
    },
    "widgets": {
      "application/vnd.jupyter.widget-state+json": {
        "813edd1ee0a1454393dbc1725be75047": {
          "model_module": "@jupyter-widgets/controls",
          "model_name": "HBoxModel",
          "model_module_version": "1.5.0",
          "state": {
            "_dom_classes": [],
            "_model_module": "@jupyter-widgets/controls",
            "_model_module_version": "1.5.0",
            "_model_name": "HBoxModel",
            "_view_count": null,
            "_view_module": "@jupyter-widgets/controls",
            "_view_module_version": "1.5.0",
            "_view_name": "HBoxView",
            "box_style": "",
            "children": [
              "IPY_MODEL_3cfd32252949429bbfdc728d562d9198",
              "IPY_MODEL_47fdac83dff640dc8124eea178b4f6bb",
              "IPY_MODEL_e0d291096ba64192895e6b8ddfc86d71"
            ],
            "layout": "IPY_MODEL_5f895cd5c2214fccbcac30e90437a02d"
          }
        },
        "3cfd32252949429bbfdc728d562d9198": {
          "model_module": "@jupyter-widgets/controls",
          "model_name": "HTMLModel",
          "model_module_version": "1.5.0",
          "state": {
            "_dom_classes": [],
            "_model_module": "@jupyter-widgets/controls",
            "_model_module_version": "1.5.0",
            "_model_name": "HTMLModel",
            "_view_count": null,
            "_view_module": "@jupyter-widgets/controls",
            "_view_module_version": "1.5.0",
            "_view_name": "HTMLView",
            "description": "",
            "description_tooltip": null,
            "layout": "IPY_MODEL_fab7fafe875145f58b163ec258e5f8d4",
            "placeholder": "​",
            "style": "IPY_MODEL_fb200488213842b595776f6495cfbb50",
            "value": "config.json: 100%"
          }
        },
        "47fdac83dff640dc8124eea178b4f6bb": {
          "model_module": "@jupyter-widgets/controls",
          "model_name": "FloatProgressModel",
          "model_module_version": "1.5.0",
          "state": {
            "_dom_classes": [],
            "_model_module": "@jupyter-widgets/controls",
            "_model_module_version": "1.5.0",
            "_model_name": "FloatProgressModel",
            "_view_count": null,
            "_view_module": "@jupyter-widgets/controls",
            "_view_module_version": "1.5.0",
            "_view_name": "ProgressView",
            "bar_style": "success",
            "description": "",
            "description_tooltip": null,
            "layout": "IPY_MODEL_23037f9c843241d795abecf2fd2a7f75",
            "max": 899,
            "min": 0,
            "orientation": "horizontal",
            "style": "IPY_MODEL_8fc16fb908ab4f1abd48e232ffc16200",
            "value": 899
          }
        },
        "e0d291096ba64192895e6b8ddfc86d71": {
          "model_module": "@jupyter-widgets/controls",
          "model_name": "HTMLModel",
          "model_module_version": "1.5.0",
          "state": {
            "_dom_classes": [],
            "_model_module": "@jupyter-widgets/controls",
            "_model_module_version": "1.5.0",
            "_model_name": "HTMLModel",
            "_view_count": null,
            "_view_module": "@jupyter-widgets/controls",
            "_view_module_version": "1.5.0",
            "_view_name": "HTMLView",
            "description": "",
            "description_tooltip": null,
            "layout": "IPY_MODEL_1a7406c04c664759b203989bf9486482",
            "placeholder": "​",
            "style": "IPY_MODEL_5718cff2a2e14bb7ae57bb1c0069ae40",
            "value": " 899/899 [00:00&lt;00:00, 9.18kB/s]"
          }
        },
        "5f895cd5c2214fccbcac30e90437a02d": {
          "model_module": "@jupyter-widgets/base",
          "model_name": "LayoutModel",
          "model_module_version": "1.2.0",
          "state": {
            "_model_module": "@jupyter-widgets/base",
            "_model_module_version": "1.2.0",
            "_model_name": "LayoutModel",
            "_view_count": null,
            "_view_module": "@jupyter-widgets/base",
            "_view_module_version": "1.2.0",
            "_view_name": "LayoutView",
            "align_content": null,
            "align_items": null,
            "align_self": null,
            "border": null,
            "bottom": null,
            "display": null,
            "flex": null,
            "flex_flow": null,
            "grid_area": null,
            "grid_auto_columns": null,
            "grid_auto_flow": null,
            "grid_auto_rows": null,
            "grid_column": null,
            "grid_gap": null,
            "grid_row": null,
            "grid_template_areas": null,
            "grid_template_columns": null,
            "grid_template_rows": null,
            "height": null,
            "justify_content": null,
            "justify_items": null,
            "left": null,
            "margin": null,
            "max_height": null,
            "max_width": null,
            "min_height": null,
            "min_width": null,
            "object_fit": null,
            "object_position": null,
            "order": null,
            "overflow": null,
            "overflow_x": null,
            "overflow_y": null,
            "padding": null,
            "right": null,
            "top": null,
            "visibility": null,
            "width": null
          }
        },
        "fab7fafe875145f58b163ec258e5f8d4": {
          "model_module": "@jupyter-widgets/base",
          "model_name": "LayoutModel",
          "model_module_version": "1.2.0",
          "state": {
            "_model_module": "@jupyter-widgets/base",
            "_model_module_version": "1.2.0",
            "_model_name": "LayoutModel",
            "_view_count": null,
            "_view_module": "@jupyter-widgets/base",
            "_view_module_version": "1.2.0",
            "_view_name": "LayoutView",
            "align_content": null,
            "align_items": null,
            "align_self": null,
            "border": null,
            "bottom": null,
            "display": null,
            "flex": null,
            "flex_flow": null,
            "grid_area": null,
            "grid_auto_columns": null,
            "grid_auto_flow": null,
            "grid_auto_rows": null,
            "grid_column": null,
            "grid_gap": null,
            "grid_row": null,
            "grid_template_areas": null,
            "grid_template_columns": null,
            "grid_template_rows": null,
            "height": null,
            "justify_content": null,
            "justify_items": null,
            "left": null,
            "margin": null,
            "max_height": null,
            "max_width": null,
            "min_height": null,
            "min_width": null,
            "object_fit": null,
            "object_position": null,
            "order": null,
            "overflow": null,
            "overflow_x": null,
            "overflow_y": null,
            "padding": null,
            "right": null,
            "top": null,
            "visibility": null,
            "width": null
          }
        },
        "fb200488213842b595776f6495cfbb50": {
          "model_module": "@jupyter-widgets/controls",
          "model_name": "DescriptionStyleModel",
          "model_module_version": "1.5.0",
          "state": {
            "_model_module": "@jupyter-widgets/controls",
            "_model_module_version": "1.5.0",
            "_model_name": "DescriptionStyleModel",
            "_view_count": null,
            "_view_module": "@jupyter-widgets/base",
            "_view_module_version": "1.2.0",
            "_view_name": "StyleView",
            "description_width": ""
          }
        },
        "23037f9c843241d795abecf2fd2a7f75": {
          "model_module": "@jupyter-widgets/base",
          "model_name": "LayoutModel",
          "model_module_version": "1.2.0",
          "state": {
            "_model_module": "@jupyter-widgets/base",
            "_model_module_version": "1.2.0",
            "_model_name": "LayoutModel",
            "_view_count": null,
            "_view_module": "@jupyter-widgets/base",
            "_view_module_version": "1.2.0",
            "_view_name": "LayoutView",
            "align_content": null,
            "align_items": null,
            "align_self": null,
            "border": null,
            "bottom": null,
            "display": null,
            "flex": null,
            "flex_flow": null,
            "grid_area": null,
            "grid_auto_columns": null,
            "grid_auto_flow": null,
            "grid_auto_rows": null,
            "grid_column": null,
            "grid_gap": null,
            "grid_row": null,
            "grid_template_areas": null,
            "grid_template_columns": null,
            "grid_template_rows": null,
            "height": null,
            "justify_content": null,
            "justify_items": null,
            "left": null,
            "margin": null,
            "max_height": null,
            "max_width": null,
            "min_height": null,
            "min_width": null,
            "object_fit": null,
            "object_position": null,
            "order": null,
            "overflow": null,
            "overflow_x": null,
            "overflow_y": null,
            "padding": null,
            "right": null,
            "top": null,
            "visibility": null,
            "width": null
          }
        },
        "8fc16fb908ab4f1abd48e232ffc16200": {
          "model_module": "@jupyter-widgets/controls",
          "model_name": "ProgressStyleModel",
          "model_module_version": "1.5.0",
          "state": {
            "_model_module": "@jupyter-widgets/controls",
            "_model_module_version": "1.5.0",
            "_model_name": "ProgressStyleModel",
            "_view_count": null,
            "_view_module": "@jupyter-widgets/base",
            "_view_module_version": "1.2.0",
            "_view_name": "StyleView",
            "bar_color": null,
            "description_width": ""
          }
        },
        "1a7406c04c664759b203989bf9486482": {
          "model_module": "@jupyter-widgets/base",
          "model_name": "LayoutModel",
          "model_module_version": "1.2.0",
          "state": {
            "_model_module": "@jupyter-widgets/base",
            "_model_module_version": "1.2.0",
            "_model_name": "LayoutModel",
            "_view_count": null,
            "_view_module": "@jupyter-widgets/base",
            "_view_module_version": "1.2.0",
            "_view_name": "LayoutView",
            "align_content": null,
            "align_items": null,
            "align_self": null,
            "border": null,
            "bottom": null,
            "display": null,
            "flex": null,
            "flex_flow": null,
            "grid_area": null,
            "grid_auto_columns": null,
            "grid_auto_flow": null,
            "grid_auto_rows": null,
            "grid_column": null,
            "grid_gap": null,
            "grid_row": null,
            "grid_template_areas": null,
            "grid_template_columns": null,
            "grid_template_rows": null,
            "height": null,
            "justify_content": null,
            "justify_items": null,
            "left": null,
            "margin": null,
            "max_height": null,
            "max_width": null,
            "min_height": null,
            "min_width": null,
            "object_fit": null,
            "object_position": null,
            "order": null,
            "overflow": null,
            "overflow_x": null,
            "overflow_y": null,
            "padding": null,
            "right": null,
            "top": null,
            "visibility": null,
            "width": null
          }
        },
        "5718cff2a2e14bb7ae57bb1c0069ae40": {
          "model_module": "@jupyter-widgets/controls",
          "model_name": "DescriptionStyleModel",
          "model_module_version": "1.5.0",
          "state": {
            "_model_module": "@jupyter-widgets/controls",
            "_model_module_version": "1.5.0",
            "_model_name": "DescriptionStyleModel",
            "_view_count": null,
            "_view_module": "@jupyter-widgets/base",
            "_view_module_version": "1.2.0",
            "_view_name": "StyleView",
            "description_width": ""
          }
        },
        "2c155ac7f2364208b1ff98a0e75be766": {
          "model_module": "@jupyter-widgets/controls",
          "model_name": "HBoxModel",
          "model_module_version": "1.5.0",
          "state": {
            "_dom_classes": [],
            "_model_module": "@jupyter-widgets/controls",
            "_model_module_version": "1.5.0",
            "_model_name": "HBoxModel",
            "_view_count": null,
            "_view_module": "@jupyter-widgets/controls",
            "_view_module_version": "1.5.0",
            "_view_name": "HBoxView",
            "box_style": "",
            "children": [
              "IPY_MODEL_baca4f61befb4542a210b28f69b159ef",
              "IPY_MODEL_a7408beaf0184bfda1f35310a1b68305",
              "IPY_MODEL_761c0326358940dfba750da69a4cd985"
            ],
            "layout": "IPY_MODEL_b0efeae82e12419eb3b643a7ab39ee37"
          }
        },
        "baca4f61befb4542a210b28f69b159ef": {
          "model_module": "@jupyter-widgets/controls",
          "model_name": "HTMLModel",
          "model_module_version": "1.5.0",
          "state": {
            "_dom_classes": [],
            "_model_module": "@jupyter-widgets/controls",
            "_model_module_version": "1.5.0",
            "_model_name": "HTMLModel",
            "_view_count": null,
            "_view_module": "@jupyter-widgets/controls",
            "_view_module_version": "1.5.0",
            "_view_name": "HTMLView",
            "description": "",
            "description_tooltip": null,
            "layout": "IPY_MODEL_f10fb9061c944359a99486861b25d9fe",
            "placeholder": "​",
            "style": "IPY_MODEL_31163e07542e45bb9a6fc4e2f9c58c7f",
            "value": "model.safetensors: 100%"
          }
        },
        "a7408beaf0184bfda1f35310a1b68305": {
          "model_module": "@jupyter-widgets/controls",
          "model_name": "FloatProgressModel",
          "model_module_version": "1.5.0",
          "state": {
            "_dom_classes": [],
            "_model_module": "@jupyter-widgets/controls",
            "_model_module_version": "1.5.0",
            "_model_name": "FloatProgressModel",
            "_view_count": null,
            "_view_module": "@jupyter-widgets/controls",
            "_view_module_version": "1.5.0",
            "_view_name": "ProgressView",
            "bar_style": "success",
            "description": "",
            "description_tooltip": null,
            "layout": "IPY_MODEL_bc148f480c3b482c81d37a0b7a6dd783",
            "max": 1999811208,
            "min": 0,
            "orientation": "horizontal",
            "style": "IPY_MODEL_b0941f2718954024bf69320626523624",
            "value": 1999811208
          }
        },
        "761c0326358940dfba750da69a4cd985": {
          "model_module": "@jupyter-widgets/controls",
          "model_name": "HTMLModel",
          "model_module_version": "1.5.0",
          "state": {
            "_dom_classes": [],
            "_model_module": "@jupyter-widgets/controls",
            "_model_module_version": "1.5.0",
            "_model_name": "HTMLModel",
            "_view_count": null,
            "_view_module": "@jupyter-widgets/controls",
            "_view_module_version": "1.5.0",
            "_view_name": "HTMLView",
            "description": "",
            "description_tooltip": null,
            "layout": "IPY_MODEL_37c3db3253d7452882aa7c6982342d8b",
            "placeholder": "​",
            "style": "IPY_MODEL_85d9994eaa044b39bdfb98232cf4d44a",
            "value": " 2.00G/2.00G [00:28&lt;00:00, 166MB/s]"
          }
        },
        "b0efeae82e12419eb3b643a7ab39ee37": {
          "model_module": "@jupyter-widgets/base",
          "model_name": "LayoutModel",
          "model_module_version": "1.2.0",
          "state": {
            "_model_module": "@jupyter-widgets/base",
            "_model_module_version": "1.2.0",
            "_model_name": "LayoutModel",
            "_view_count": null,
            "_view_module": "@jupyter-widgets/base",
            "_view_module_version": "1.2.0",
            "_view_name": "LayoutView",
            "align_content": null,
            "align_items": null,
            "align_self": null,
            "border": null,
            "bottom": null,
            "display": null,
            "flex": null,
            "flex_flow": null,
            "grid_area": null,
            "grid_auto_columns": null,
            "grid_auto_flow": null,
            "grid_auto_rows": null,
            "grid_column": null,
            "grid_gap": null,
            "grid_row": null,
            "grid_template_areas": null,
            "grid_template_columns": null,
            "grid_template_rows": null,
            "height": null,
            "justify_content": null,
            "justify_items": null,
            "left": null,
            "margin": null,
            "max_height": null,
            "max_width": null,
            "min_height": null,
            "min_width": null,
            "object_fit": null,
            "object_position": null,
            "order": null,
            "overflow": null,
            "overflow_x": null,
            "overflow_y": null,
            "padding": null,
            "right": null,
            "top": null,
            "visibility": null,
            "width": null
          }
        },
        "f10fb9061c944359a99486861b25d9fe": {
          "model_module": "@jupyter-widgets/base",
          "model_name": "LayoutModel",
          "model_module_version": "1.2.0",
          "state": {
            "_model_module": "@jupyter-widgets/base",
            "_model_module_version": "1.2.0",
            "_model_name": "LayoutModel",
            "_view_count": null,
            "_view_module": "@jupyter-widgets/base",
            "_view_module_version": "1.2.0",
            "_view_name": "LayoutView",
            "align_content": null,
            "align_items": null,
            "align_self": null,
            "border": null,
            "bottom": null,
            "display": null,
            "flex": null,
            "flex_flow": null,
            "grid_area": null,
            "grid_auto_columns": null,
            "grid_auto_flow": null,
            "grid_auto_rows": null,
            "grid_column": null,
            "grid_gap": null,
            "grid_row": null,
            "grid_template_areas": null,
            "grid_template_columns": null,
            "grid_template_rows": null,
            "height": null,
            "justify_content": null,
            "justify_items": null,
            "left": null,
            "margin": null,
            "max_height": null,
            "max_width": null,
            "min_height": null,
            "min_width": null,
            "object_fit": null,
            "object_position": null,
            "order": null,
            "overflow": null,
            "overflow_x": null,
            "overflow_y": null,
            "padding": null,
            "right": null,
            "top": null,
            "visibility": null,
            "width": null
          }
        },
        "31163e07542e45bb9a6fc4e2f9c58c7f": {
          "model_module": "@jupyter-widgets/controls",
          "model_name": "DescriptionStyleModel",
          "model_module_version": "1.5.0",
          "state": {
            "_model_module": "@jupyter-widgets/controls",
            "_model_module_version": "1.5.0",
            "_model_name": "DescriptionStyleModel",
            "_view_count": null,
            "_view_module": "@jupyter-widgets/base",
            "_view_module_version": "1.2.0",
            "_view_name": "StyleView",
            "description_width": ""
          }
        },
        "bc148f480c3b482c81d37a0b7a6dd783": {
          "model_module": "@jupyter-widgets/base",
          "model_name": "LayoutModel",
          "model_module_version": "1.2.0",
          "state": {
            "_model_module": "@jupyter-widgets/base",
            "_model_module_version": "1.2.0",
            "_model_name": "LayoutModel",
            "_view_count": null,
            "_view_module": "@jupyter-widgets/base",
            "_view_module_version": "1.2.0",
            "_view_name": "LayoutView",
            "align_content": null,
            "align_items": null,
            "align_self": null,
            "border": null,
            "bottom": null,
            "display": null,
            "flex": null,
            "flex_flow": null,
            "grid_area": null,
            "grid_auto_columns": null,
            "grid_auto_flow": null,
            "grid_auto_rows": null,
            "grid_column": null,
            "grid_gap": null,
            "grid_row": null,
            "grid_template_areas": null,
            "grid_template_columns": null,
            "grid_template_rows": null,
            "height": null,
            "justify_content": null,
            "justify_items": null,
            "left": null,
            "margin": null,
            "max_height": null,
            "max_width": null,
            "min_height": null,
            "min_width": null,
            "object_fit": null,
            "object_position": null,
            "order": null,
            "overflow": null,
            "overflow_x": null,
            "overflow_y": null,
            "padding": null,
            "right": null,
            "top": null,
            "visibility": null,
            "width": null
          }
        },
        "b0941f2718954024bf69320626523624": {
          "model_module": "@jupyter-widgets/controls",
          "model_name": "ProgressStyleModel",
          "model_module_version": "1.5.0",
          "state": {
            "_model_module": "@jupyter-widgets/controls",
            "_model_module_version": "1.5.0",
            "_model_name": "ProgressStyleModel",
            "_view_count": null,
            "_view_module": "@jupyter-widgets/base",
            "_view_module_version": "1.2.0",
            "_view_name": "StyleView",
            "bar_color": null,
            "description_width": ""
          }
        },
        "37c3db3253d7452882aa7c6982342d8b": {
          "model_module": "@jupyter-widgets/base",
          "model_name": "LayoutModel",
          "model_module_version": "1.2.0",
          "state": {
            "_model_module": "@jupyter-widgets/base",
            "_model_module_version": "1.2.0",
            "_model_name": "LayoutModel",
            "_view_count": null,
            "_view_module": "@jupyter-widgets/base",
            "_view_module_version": "1.2.0",
            "_view_name": "LayoutView",
            "align_content": null,
            "align_items": null,
            "align_self": null,
            "border": null,
            "bottom": null,
            "display": null,
            "flex": null,
            "flex_flow": null,
            "grid_area": null,
            "grid_auto_columns": null,
            "grid_auto_flow": null,
            "grid_auto_rows": null,
            "grid_column": null,
            "grid_gap": null,
            "grid_row": null,
            "grid_template_areas": null,
            "grid_template_columns": null,
            "grid_template_rows": null,
            "height": null,
            "justify_content": null,
            "justify_items": null,
            "left": null,
            "margin": null,
            "max_height": null,
            "max_width": null,
            "min_height": null,
            "min_width": null,
            "object_fit": null,
            "object_position": null,
            "order": null,
            "overflow": null,
            "overflow_x": null,
            "overflow_y": null,
            "padding": null,
            "right": null,
            "top": null,
            "visibility": null,
            "width": null
          }
        },
        "85d9994eaa044b39bdfb98232cf4d44a": {
          "model_module": "@jupyter-widgets/controls",
          "model_name": "DescriptionStyleModel",
          "model_module_version": "1.5.0",
          "state": {
            "_model_module": "@jupyter-widgets/controls",
            "_model_module_version": "1.5.0",
            "_model_name": "DescriptionStyleModel",
            "_view_count": null,
            "_view_module": "@jupyter-widgets/base",
            "_view_module_version": "1.2.0",
            "_view_name": "StyleView",
            "description_width": ""
          }
        },
        "649a4c056951462c951a268c4788cb84": {
          "model_module": "@jupyter-widgets/controls",
          "model_name": "HBoxModel",
          "model_module_version": "1.5.0",
          "state": {
            "_dom_classes": [],
            "_model_module": "@jupyter-widgets/controls",
            "_model_module_version": "1.5.0",
            "_model_name": "HBoxModel",
            "_view_count": null,
            "_view_module": "@jupyter-widgets/controls",
            "_view_module_version": "1.5.0",
            "_view_name": "HBoxView",
            "box_style": "",
            "children": [
              "IPY_MODEL_8f456ed8ee7c4f10996eb5a6b0b2e75c",
              "IPY_MODEL_c948d80325294bf98f7cd8fc1c3638a4",
              "IPY_MODEL_acf0deea4fa84d8ab3a5de5a36a6fb7f"
            ],
            "layout": "IPY_MODEL_9607920adf714d4a9327f8d8e0534330"
          }
        },
        "8f456ed8ee7c4f10996eb5a6b0b2e75c": {
          "model_module": "@jupyter-widgets/controls",
          "model_name": "HTMLModel",
          "model_module_version": "1.5.0",
          "state": {
            "_dom_classes": [],
            "_model_module": "@jupyter-widgets/controls",
            "_model_module_version": "1.5.0",
            "_model_name": "HTMLModel",
            "_view_count": null,
            "_view_module": "@jupyter-widgets/controls",
            "_view_module_version": "1.5.0",
            "_view_name": "HTMLView",
            "description": "",
            "description_tooltip": null,
            "layout": "IPY_MODEL_7702ad206c714a65bb9294e73e360ff2",
            "placeholder": "​",
            "style": "IPY_MODEL_d4f40ee97a914b82b209c09dd92028eb",
            "value": "generation_config.json: 100%"
          }
        },
        "c948d80325294bf98f7cd8fc1c3638a4": {
          "model_module": "@jupyter-widgets/controls",
          "model_name": "FloatProgressModel",
          "model_module_version": "1.5.0",
          "state": {
            "_dom_classes": [],
            "_model_module": "@jupyter-widgets/controls",
            "_model_module_version": "1.5.0",
            "_model_name": "FloatProgressModel",
            "_view_count": null,
            "_view_module": "@jupyter-widgets/controls",
            "_view_module_version": "1.5.0",
            "_view_name": "ProgressView",
            "bar_style": "success",
            "description": "",
            "description_tooltip": null,
            "layout": "IPY_MODEL_857a90c015434f7c8411c9b068da2603",
            "max": 215,
            "min": 0,
            "orientation": "horizontal",
            "style": "IPY_MODEL_c78c3fb61cc8400888e7bba3183f158e",
            "value": 215
          }
        },
        "acf0deea4fa84d8ab3a5de5a36a6fb7f": {
          "model_module": "@jupyter-widgets/controls",
          "model_name": "HTMLModel",
          "model_module_version": "1.5.0",
          "state": {
            "_dom_classes": [],
            "_model_module": "@jupyter-widgets/controls",
            "_model_module_version": "1.5.0",
            "_model_name": "HTMLModel",
            "_view_count": null,
            "_view_module": "@jupyter-widgets/controls",
            "_view_module_version": "1.5.0",
            "_view_name": "HTMLView",
            "description": "",
            "description_tooltip": null,
            "layout": "IPY_MODEL_131c556d9fd24901bcfe58833ca848c3",
            "placeholder": "​",
            "style": "IPY_MODEL_11fe8a6a9e7443b6b9961de79e6d1f6c",
            "value": " 215/215 [00:00&lt;00:00, 16.2kB/s]"
          }
        },
        "9607920adf714d4a9327f8d8e0534330": {
          "model_module": "@jupyter-widgets/base",
          "model_name": "LayoutModel",
          "model_module_version": "1.2.0",
          "state": {
            "_model_module": "@jupyter-widgets/base",
            "_model_module_version": "1.2.0",
            "_model_name": "LayoutModel",
            "_view_count": null,
            "_view_module": "@jupyter-widgets/base",
            "_view_module_version": "1.2.0",
            "_view_name": "LayoutView",
            "align_content": null,
            "align_items": null,
            "align_self": null,
            "border": null,
            "bottom": null,
            "display": null,
            "flex": null,
            "flex_flow": null,
            "grid_area": null,
            "grid_auto_columns": null,
            "grid_auto_flow": null,
            "grid_auto_rows": null,
            "grid_column": null,
            "grid_gap": null,
            "grid_row": null,
            "grid_template_areas": null,
            "grid_template_columns": null,
            "grid_template_rows": null,
            "height": null,
            "justify_content": null,
            "justify_items": null,
            "left": null,
            "margin": null,
            "max_height": null,
            "max_width": null,
            "min_height": null,
            "min_width": null,
            "object_fit": null,
            "object_position": null,
            "order": null,
            "overflow": null,
            "overflow_x": null,
            "overflow_y": null,
            "padding": null,
            "right": null,
            "top": null,
            "visibility": null,
            "width": null
          }
        },
        "7702ad206c714a65bb9294e73e360ff2": {
          "model_module": "@jupyter-widgets/base",
          "model_name": "LayoutModel",
          "model_module_version": "1.2.0",
          "state": {
            "_model_module": "@jupyter-widgets/base",
            "_model_module_version": "1.2.0",
            "_model_name": "LayoutModel",
            "_view_count": null,
            "_view_module": "@jupyter-widgets/base",
            "_view_module_version": "1.2.0",
            "_view_name": "LayoutView",
            "align_content": null,
            "align_items": null,
            "align_self": null,
            "border": null,
            "bottom": null,
            "display": null,
            "flex": null,
            "flex_flow": null,
            "grid_area": null,
            "grid_auto_columns": null,
            "grid_auto_flow": null,
            "grid_auto_rows": null,
            "grid_column": null,
            "grid_gap": null,
            "grid_row": null,
            "grid_template_areas": null,
            "grid_template_columns": null,
            "grid_template_rows": null,
            "height": null,
            "justify_content": null,
            "justify_items": null,
            "left": null,
            "margin": null,
            "max_height": null,
            "max_width": null,
            "min_height": null,
            "min_width": null,
            "object_fit": null,
            "object_position": null,
            "order": null,
            "overflow": null,
            "overflow_x": null,
            "overflow_y": null,
            "padding": null,
            "right": null,
            "top": null,
            "visibility": null,
            "width": null
          }
        },
        "d4f40ee97a914b82b209c09dd92028eb": {
          "model_module": "@jupyter-widgets/controls",
          "model_name": "DescriptionStyleModel",
          "model_module_version": "1.5.0",
          "state": {
            "_model_module": "@jupyter-widgets/controls",
            "_model_module_version": "1.5.0",
            "_model_name": "DescriptionStyleModel",
            "_view_count": null,
            "_view_module": "@jupyter-widgets/base",
            "_view_module_version": "1.2.0",
            "_view_name": "StyleView",
            "description_width": ""
          }
        },
        "857a90c015434f7c8411c9b068da2603": {
          "model_module": "@jupyter-widgets/base",
          "model_name": "LayoutModel",
          "model_module_version": "1.2.0",
          "state": {
            "_model_module": "@jupyter-widgets/base",
            "_model_module_version": "1.2.0",
            "_model_name": "LayoutModel",
            "_view_count": null,
            "_view_module": "@jupyter-widgets/base",
            "_view_module_version": "1.2.0",
            "_view_name": "LayoutView",
            "align_content": null,
            "align_items": null,
            "align_self": null,
            "border": null,
            "bottom": null,
            "display": null,
            "flex": null,
            "flex_flow": null,
            "grid_area": null,
            "grid_auto_columns": null,
            "grid_auto_flow": null,
            "grid_auto_rows": null,
            "grid_column": null,
            "grid_gap": null,
            "grid_row": null,
            "grid_template_areas": null,
            "grid_template_columns": null,
            "grid_template_rows": null,
            "height": null,
            "justify_content": null,
            "justify_items": null,
            "left": null,
            "margin": null,
            "max_height": null,
            "max_width": null,
            "min_height": null,
            "min_width": null,
            "object_fit": null,
            "object_position": null,
            "order": null,
            "overflow": null,
            "overflow_x": null,
            "overflow_y": null,
            "padding": null,
            "right": null,
            "top": null,
            "visibility": null,
            "width": null
          }
        },
        "c78c3fb61cc8400888e7bba3183f158e": {
          "model_module": "@jupyter-widgets/controls",
          "model_name": "ProgressStyleModel",
          "model_module_version": "1.5.0",
          "state": {
            "_model_module": "@jupyter-widgets/controls",
            "_model_module_version": "1.5.0",
            "_model_name": "ProgressStyleModel",
            "_view_count": null,
            "_view_module": "@jupyter-widgets/base",
            "_view_module_version": "1.2.0",
            "_view_name": "StyleView",
            "bar_color": null,
            "description_width": ""
          }
        },
        "131c556d9fd24901bcfe58833ca848c3": {
          "model_module": "@jupyter-widgets/base",
          "model_name": "LayoutModel",
          "model_module_version": "1.2.0",
          "state": {
            "_model_module": "@jupyter-widgets/base",
            "_model_module_version": "1.2.0",
            "_model_name": "LayoutModel",
            "_view_count": null,
            "_view_module": "@jupyter-widgets/base",
            "_view_module_version": "1.2.0",
            "_view_name": "LayoutView",
            "align_content": null,
            "align_items": null,
            "align_self": null,
            "border": null,
            "bottom": null,
            "display": null,
            "flex": null,
            "flex_flow": null,
            "grid_area": null,
            "grid_auto_columns": null,
            "grid_auto_flow": null,
            "grid_auto_rows": null,
            "grid_column": null,
            "grid_gap": null,
            "grid_row": null,
            "grid_template_areas": null,
            "grid_template_columns": null,
            "grid_template_rows": null,
            "height": null,
            "justify_content": null,
            "justify_items": null,
            "left": null,
            "margin": null,
            "max_height": null,
            "max_width": null,
            "min_height": null,
            "min_width": null,
            "object_fit": null,
            "object_position": null,
            "order": null,
            "overflow": null,
            "overflow_x": null,
            "overflow_y": null,
            "padding": null,
            "right": null,
            "top": null,
            "visibility": null,
            "width": null
          }
        },
        "11fe8a6a9e7443b6b9961de79e6d1f6c": {
          "model_module": "@jupyter-widgets/controls",
          "model_name": "DescriptionStyleModel",
          "model_module_version": "1.5.0",
          "state": {
            "_model_module": "@jupyter-widgets/controls",
            "_model_module_version": "1.5.0",
            "_model_name": "DescriptionStyleModel",
            "_view_count": null,
            "_view_module": "@jupyter-widgets/base",
            "_view_module_version": "1.2.0",
            "_view_name": "StyleView",
            "description_width": ""
          }
        }
      }
    }
  },
  "cells": [
    {
      "cell_type": "code",
      "execution_count": 18,
      "metadata": {
        "colab": {
          "base_uri": "https://localhost:8080/"
        },
        "id": "J4NgAtiY1mS8",
        "outputId": "dedeb09d-369c-4409-8592-30d321ddc375"
      },
      "outputs": [
        {
          "output_type": "stream",
          "name": "stdout",
          "text": [
            "Requirement already satisfied: transformers in /usr/local/lib/python3.11/dist-packages (4.52.4)\n",
            "Requirement already satisfied: filelock in /usr/local/lib/python3.11/dist-packages (from transformers) (3.18.0)\n",
            "Requirement already satisfied: huggingface-hub<1.0,>=0.30.0 in /usr/local/lib/python3.11/dist-packages (from transformers) (0.31.4)\n",
            "Requirement already satisfied: numpy>=1.17 in /usr/local/lib/python3.11/dist-packages (from transformers) (2.0.2)\n",
            "Requirement already satisfied: packaging>=20.0 in /usr/local/lib/python3.11/dist-packages (from transformers) (24.2)\n",
            "Requirement already satisfied: pyyaml>=5.1 in /usr/local/lib/python3.11/dist-packages (from transformers) (6.0.2)\n",
            "Requirement already satisfied: regex!=2019.12.17 in /usr/local/lib/python3.11/dist-packages (from transformers) (2024.11.6)\n",
            "Requirement already satisfied: requests in /usr/local/lib/python3.11/dist-packages (from transformers) (2.32.3)\n",
            "Requirement already satisfied: tokenizers<0.22,>=0.21 in /usr/local/lib/python3.11/dist-packages (from transformers) (0.21.1)\n",
            "Requirement already satisfied: safetensors>=0.4.3 in /usr/local/lib/python3.11/dist-packages (from transformers) (0.5.3)\n",
            "Requirement already satisfied: tqdm>=4.27 in /usr/local/lib/python3.11/dist-packages (from transformers) (4.67.1)\n",
            "Requirement already satisfied: fsspec>=2023.5.0 in /usr/local/lib/python3.11/dist-packages (from huggingface-hub<1.0,>=0.30.0->transformers) (2025.3.2)\n",
            "Requirement already satisfied: typing-extensions>=3.7.4.3 in /usr/local/lib/python3.11/dist-packages (from huggingface-hub<1.0,>=0.30.0->transformers) (4.13.2)\n",
            "Requirement already satisfied: charset-normalizer<4,>=2 in /usr/local/lib/python3.11/dist-packages (from requests->transformers) (3.4.2)\n",
            "Requirement already satisfied: idna<4,>=2.5 in /usr/local/lib/python3.11/dist-packages (from requests->transformers) (3.10)\n",
            "Requirement already satisfied: urllib3<3,>=1.21.1 in /usr/local/lib/python3.11/dist-packages (from requests->transformers) (2.4.0)\n",
            "Requirement already satisfied: certifi>=2017.4.17 in /usr/local/lib/python3.11/dist-packages (from requests->transformers) (2025.4.26)\n"
          ]
        }
      ],
      "source": [
        "!pip install --upgrade transformers"
      ]
    },
    {
      "cell_type": "code",
      "source": [
        "import os\n",
        "\n",
        "os.environ[\"HF_TOKEN\"] = \"\"\n"
      ],
      "metadata": {
        "id": "Gj9egt1h2DNk"
      },
      "execution_count": 7,
      "outputs": []
    },
    {
      "cell_type": "code",
      "source": [
        "\n",
        "\n",
        "from transformers import AutoTokenizer\n",
        "\n",
        "tokenizer = AutoTokenizer.from_pretrained(\"google/gemma-3-27b-it\")\n",
        "tokenizer(\"hello world i am meet\")"
      ],
      "metadata": {
        "colab": {
          "base_uri": "https://localhost:8080/"
        },
        "id": "rB6Q3jn42tyz",
        "outputId": "b82766b6-645c-49c8-d873-3d77c7a57007"
      },
      "execution_count": 10,
      "outputs": [
        {
          "output_type": "execute_result",
          "data": {
            "text/plain": [
              "{'input_ids': [2, 23391, 1902, 858, 1006, 2874], 'attention_mask': [1, 1, 1, 1, 1, 1]}"
            ]
          },
          "metadata": {},
          "execution_count": 10
        }
      ]
    },
    {
      "cell_type": "code",
      "source": [
        "from google import genai\n",
        "\n",
        "client = genai.Client(api_key=\"\")\n",
        "\n",
        "result = client.models.embed_content(\n",
        "        model=\"gemini-embedding-exp-03-07\",\n",
        "        contents=\"meet is human. cat is animal and pet\")\n",
        "\n",
        "print(result.embeddings)\n",
        "print(len(result.embeddings[0].values))\n",
        "\n"
      ],
      "metadata": {
        "colab": {
          "base_uri": "https://localhost:8080/"
        },
        "id": "ew7rtan58jQs",
        "outputId": "effd63ac-c65f-45f0-e33b-44c5fabc7033"
      },
      "execution_count": 16,
      "outputs": [
        {
          "output_type": "stream",
          "name": "stdout",
          "text": [
            "[ContentEmbedding(values=[-0.024769034, 0.0014970013, -0.0004949651, -0.07227179, -0.008343422, 0.0014104587, -0.008390712, 0.017661588, 0.029142234, 0.0024340188, -0.020047935, -0.028535362, -0.013904153, 0.01643324, 0.1286774, -0.0006196886, 0.0023797718, 0.010951217, -0.00856463, -0.033701662, -0.015137434, 0.013121961, 0.01612018, -0.018535947, -0.015530919, 0.013772314, 0.0005552358, 0.0038070055, 0.007934407, -0.0049561965, -0.0061168266, 0.03516298, -0.03427421, 0.02095206, 0.009991722, -0.032841146, 0.0142472675, -0.009275798, -0.018753238, 0.0022774711, 0.0042677796, 0.009519403, -0.0018988063, -0.020254081, -0.00019492462, -0.019132867, 0.00068048865, -0.005508663, 0.012075108, 0.013896672, 0.01213773, 0.022105852, -0.01023691, -0.14664224, 0.0023425699, 0.00016579485, -0.0071020266, -0.011968848, 0.0070497426, -0.0041171703, -0.025078768, 0.008314884, 0.0069402214, -0.0032153064, -0.02529708, -0.0075747613, 0.016808456, -0.008009803, 0.0046973447, 0.0012571824, 0.028130114, 0.021601947, -0.016345263, -0.013959183, 0.0043941736, -0.01422043, 0.019570518, -0.010598458, 0.013888646, 0.017499158, 0.024314996, -0.012221223, -0.005139766, -0.028273847, 0.0064498894, 0.02007789, -0.021176565, -0.018802786, -0.0390455, 0.00783614, -0.003920457, -0.024104819, 0.010664649, -0.032220244, 0.0076073934, 0.0013305421, -0.014667028, -0.005289563, 0.0016372096, 0.022599662, -0.015004322, -0.002651267, -0.039434664, -0.0061364295, 0.012102656, 0.016778698, 0.031183107, -0.007853049, -0.008763826, 0.004755688, 0.004974833, -0.011086548, 0.0011442674, 0.016698705, 0.008702627, -0.18388252, -0.0061502582, 0.014622296, -0.034384347, 0.012052969, -0.004241027, -0.003483021, 0.005222605, 0.024696825, 0.0023388888, -0.007155374, 0.00015729129, 0.007983722, -0.0010648638, -0.00629445, -0.015648657, -0.012026731, 0.0042915763, 0.015354285, 0.0221821, 0.018854741, 0.0003553589, -0.032545794, -0.00852936, 0.0032723155, 0.030060025, 0.020812321, -0.00684287, 0.022012347, -0.007934082, -0.009819265, -0.02116995, 0.008870951, 0.01647469, -0.0048787403, -0.02004002, 0.008255838, -0.0065025017, -0.01932396, -0.0022674876, -0.058285262, -0.025108133, -0.01711895, 0.013176751, 0.008259325, -0.0022147726, 0.009253594, -0.040392008, 0.01786196, 0.0031346346, -0.00030771716, 0.011106789, 0.011588113, 0.0028048074, 0.0062666247, 0.0049337316, 0.020350154, 0.009096241, -0.012506857, 0.00023266213, -0.028653502, 0.008646795, 0.042296942, -0.0018144331, 0.006669306, -0.00075024745, 0.006442417, -0.012999795, -0.010288841, 0.0057396567, -0.012216413, -0.004357158, 0.0009939406, 0.009412892, -0.00524602, 0.024945943, -0.034835786, 0.0038885144, 0.0083840415, 0.02442864, -0.0013772399, -0.00016448274, 0.01903164, -0.018692216, -0.002806786, 0.008545581, 0.008422785, -0.012056316, 0.010765261, 0.002862268, 0.0005141823, -0.003718402, -0.017988639, 5.6565646e-06, -0.0052749794, -0.019923437, -0.008813804, 0.036063753, -0.02842098, -0.010452351, -0.01929177, 0.033734348, 0.011863593, -0.016486444, -0.0053561386, 0.014959657, -0.0015298243, 0.011935968, 0.0072720055, -0.005217442, -0.0060116574, -0.026958676, -0.0005086365, 0.022454606, 0.011448384, -0.00233507, 0.010894402, -0.0014561067, -0.008458571, 0.021209003, 0.019165443, -0.0012102362, -0.013154295, 0.031990286, 0.008565726, 0.0022483014, -0.024834244, -0.012468734, 0.041551568, 0.03364189, 0.009578595, -0.010248069, -0.004896899, 0.014750079, -0.00434411, -0.00021123615, 0.007439554, -0.016933868, 0.01143229, 0.001146544, -0.023889478, -0.002113212, 0.0003354761, -0.009619004, -0.0055899587, -0.01728702, -0.0018150095, 0.021124352, -0.008815841, 0.005815229, 0.012266256, -0.0050325366, -0.00090510695, 9.477425e-05, 0.019011026, -0.02055319, 0.019020252, 0.008409306, 0.025752505, 0.0028656842, 0.02609509, -0.098204724, 0.004167698, 0.0022870188, 0.01483412, -6.396792e-05, 0.017517038, -0.03171846, -0.0023474738, 0.0060070585, 0.012773086, -0.017804353, 0.0060886494, 0.003716923, 0.0029650459, 0.0068446817, 0.0024253018, -0.018297201, 0.02786162, 0.0026902866, -0.038225267, 0.014676441, -0.008125401, 0.032999195, 0.033544328, -0.0035113469, 0.0044677565, 0.015346714, 0.046106517, 0.018495517, -0.021026932, -0.009995936, 0.023988117, -0.010613237, -0.030757377, -0.00033767137, -0.01371188, -0.017453177, -0.0028166089, 0.008311068, -0.030050902, 0.016052939, 0.009795429, -0.022605523, -0.0056898585, -0.0058844113, -0.020073839, -0.006722918, -0.005340581, -0.0014744883, -0.005158922, -0.018051427, 0.016596526, 0.02547851, -0.056738857, 0.010833927, 0.0007690322, 0.031154593, -0.03943754, -0.013856056, 0.004439088, 0.021504857, -0.002218782, 0.0019027698, -0.0166287, 0.008591779, 0.0007360842, 0.01548758, 0.016018545, -0.005448753, 0.007672385, 0.030436663, -0.008580185, -0.01779234, -0.011142875, -0.0010596445, 0.018541194, -0.030507868, -0.012531735, -0.02712004, 0.01871913, 0.0056711347, 0.018467449, 0.019155186, 0.031170385, 0.002369556, 0.0033033586, -0.022533538, 0.01855403, 0.012699871, -0.007047835, 0.025736136, 0.011008349, 0.015185847, -0.0018269598, 0.02017474, -0.032696307, -0.023539327, 0.0068167225, 0.007285977, -0.0012654099, -0.025476772, -0.03061974, -0.011065098, 0.027634358, -0.023634426, 0.008896446, -0.031197876, 0.023599718, 0.019717416, 0.026406888, 0.0055379146, 0.028392408, -0.030871235, 0.008457242, -0.011923646, 0.012288489, -0.008179461, 0.010975312, 0.0071626687, -0.015907165, 0.01785322, 0.011974254, 0.005273192, 0.0031935645, 0.006114857, 0.010022456, -0.010278682, 0.013663716, -0.00089730544, 0.0010789582, 0.011703891, -0.013574327, 0.00866864, -0.008321783, -0.009057295, -0.014939806, 0.0066094967, 0.00709202, -0.0057897535, -0.011605994, 0.009841304, 0.014323076, 0.009905245, -0.013342567, -0.015837144, 0.006897148, 0.001529164, -0.007228129, 0.010567314, -0.040907178, -0.02547531, -0.025479753, -0.01245336, 0.011277843, 0.016220056, -0.026013128, 0.009982086, -0.011252304, -0.0058663525, -0.0065895254, -0.025619378, 0.0032449078, 0.005634223, 0.013133953, -0.003543058, -0.0018389688, 0.016636241, 0.004656148, -0.0027226603, -0.012526442, 0.007848007, 0.007935579, -0.007389593, -0.015041965, -0.011606523, 0.027569626, -0.0034418274, 0.014086585, 0.011307333, 0.012212201, 0.012158989, -0.009399513, 0.010030909, -0.027785825, -0.008485729, -0.008857002, -0.008577808, 0.02517992, -0.0072345347, 0.0026452746, 0.032191344, -0.011107748, -0.005662684, 0.018380212, -0.023641434, 0.034930356, -0.0013094909, 0.029388787, 0.0027460936, -0.013366362, -0.039327845, -0.011536655, -0.0067681875, -0.0061647287, 0.02400053, 0.016163507, 0.015272944, 0.0006237788, 0.001820598, 0.011121111, -0.00073978066, -0.027540823, -0.028235797, 0.024547623, 0.0032153032, 0.020992912, -0.026629152, 0.0009751677, -0.026584836, 0.007031228, 0.009422221, -0.0004029291, -0.0073430063, 0.005548946, 0.014585455, 0.00791356, -0.006423533, 0.004770428, -0.023383893, -0.007560796, -0.014231723, -0.03532925, 0.00826225, -0.0021830858, -0.013708866, 0.005904526, -0.0038843486, 0.0024666064, 0.005047666, 0.021253224, -0.011592424, 0.011261051, 0.021690238, -0.0014911358, 0.0011145051, 0.004291711, -0.02241976, 0.0069006714, 0.009128236, 0.03913927, 0.019035336, 0.020530537, 0.009514435, 0.03267085, -0.0101443855, 0.013637273, 0.0125870835, -0.015635217, -0.010848075, -0.0026699896, 0.026940877, -0.015676329, -0.0140471, -0.0012863998, -0.019079048, -0.00026355247, -0.032915026, -0.025984898, 0.021618215, -0.101170175, 0.017698484, -0.008051285, -0.002963354, -0.017851645, -0.012940344, -0.0032137642, -0.011768443, -0.028937614, -0.01092607, 0.011116685, -0.00401334, 0.005015886, 0.007740861, 0.028682152, -0.004782414, -0.016350325, 0.006056371, 0.003018079, -0.008650832, -0.0034322105, -0.0011227457, 0.024995336, 0.006116079, -0.0130188605, 0.0027559048, 0.037578195, 0.028329454, 0.016252981, -0.0007592755, 0.00013999168, 0.020900063, -0.0090401415, 0.013306464, 0.0042298725, -0.012954612, -0.03301774, -0.018215667, -0.00889949, -0.011688701, -0.007944836, 0.0025944035, 0.019403024, -0.013266041, 0.0026193855, -0.0179684, 0.024681747, -0.014592339, -0.011864677, -0.018887494, -0.018420981, 0.020793946, 0.0068097585, -0.00028689657, -0.012829813, -0.008500448, 0.014097883, -0.012891048, -0.02264026, 0.010844456, 0.010048715, -0.0071496586, 0.0009505207, 0.009986254, 0.0018048276, 0.0041584093, -0.011418554, -0.008216875, -0.0016181228, -0.002651187, -0.034591075, -0.013517153, -0.03899289, 0.014694019, 0.0153814275, 0.008632223, -0.037449826, 0.019306062, -0.013551679, -0.0040762178, -0.0021980025, 0.00092448905, -0.0723395, -0.013801042, -0.010299996, 0.010043052, 0.011396761, 0.010849505, -0.020049216, 0.016549377, 0.0031181711, 0.018290952, 0.025928931, -0.0030231702, 0.0030951079, -0.0008569198, 0.022270119, 0.01629946, 0.015597732, -0.012962534, 0.0028381157, 0.015637612, -0.010167158, -0.005472621, 0.017217765, -0.039090313, -0.004643387, 0.015994143, 0.0014063631, 0.0024762915, 0.010077438, 0.014153677, 0.0002853205, -0.14439966, -0.005994296, 0.00125206, 0.024676854, -0.0125490315, -0.01049246, -0.011653144, -0.008180115, -0.00257529, -0.0133842975, 0.002170601, -0.0029118906, 0.00013639747, -0.019811394, 0.021497402, 0.11689502, 0.009661125, 0.0011294716, -0.034521036, 0.013366164, 0.0045391177, -0.012536406, -0.019656913, 0.0062713437, 0.013439545, -0.012929597, -0.0005969137, -0.0037298861, -0.0064738737, -0.008778194, -0.011139267, 0.0066660126, -0.007032169, 0.013535059, 0.031646483, 0.017775677, -0.039447274, -0.018650945, -0.004122376, 0.017227, 0.012431514, 0.018486641, -0.029769175, 0.010245062, 0.0033507927, -0.02662499, -0.008797293, 0.028467925, 0.02819375, -0.00041401765, 0.0066032773, -0.078993276, -0.017494624, 0.0031398553, 0.011404756, 0.014615257, 0.012150491, 0.012906944, -0.003562811, 0.009203041, -0.007260485, 0.009050336, -0.0072485683, 0.018735673, -0.0043114317, 0.022865763, 0.0005351441, 0.02947267, 0.0021961622, 0.005217588, 0.005242256, 0.026792739, -0.022942577, 0.002224433, -0.0048947907, -0.013642048, -0.0152437715, 0.007290823, -0.013523738, 0.010107196, -0.005015661, -0.022590414, 0.017663557, 0.005110014, -0.024945395, -0.0009826327, 0.0020852133, 0.025273819, -0.010728984, -0.008803472, 0.009354792, 0.010796519, 0.0066591017, -0.017949495, -0.017670767, -0.010411817, 0.005558142, -0.013051671, 0.0005898836, 0.010108906, -0.020492462, -0.011126915, -0.0097890375, 0.0025350184, -0.014709271, -0.0045335395, 0.012929783, -0.016535247, 0.034367364, -0.0109959105, -0.006855958, 0.0022310163, -0.012200825, -0.009489615, 0.0025291343, 0.0033693677, 0.01713154, 0.011654858, -0.00718172, -0.008810601, 0.005959636, -0.0029061188, 0.0050390963, 0.0009087213, 0.007903696, -0.017428633, 0.0042721243, 0.00074839755, -0.0027447538, -0.013980422, -0.0115645835, 0.0045766905, -0.00094031985, 0.004179047, -0.016183112, -0.0051923017, -0.0012061347, 0.006968099, 0.0038021777, -0.021643816, 0.014728046, 0.01110961, -0.01743483, -0.008667385, -0.007724678, 0.01403174, -0.008163871, 0.0077644824, 0.0056648026, -0.0031201388, -0.015540035, -0.013947655, 0.007257265, 0.010407899, 0.0029107213, -0.011813405, -0.0002389904, -0.0009122166, -0.0061856625, -0.009132386, -0.0013496698, -0.026346967, -0.010245132, 0.0038839525, 0.021849966, 0.016433299, 0.0059197294, -0.020158682, -0.004223921, 0.0067257816, 0.0022434492, 0.011715606, -0.008480223, 0.0018509182, -0.009704368, 0.0015706139, -0.0024830452, -0.01767542, -0.02272205, -0.0115687195, 0.0045983903, 0.0048653525, 0.007638045, 0.0069201975, -0.0075007966, 0.007461067, -0.008530822, 0.0014665102, 0.00965867, -0.013416713, 0.010384582, -0.0045548193, 0.005691253, -0.006287057, -0.0016418338, 0.0032343706, -0.010879256, -0.015255092, -0.008161709, 0.023847554, 0.004456548, -0.008770057, -0.010626232, 0.013319575, 0.0049622734, 0.008782755, 0.013957617, -0.014579966, -0.02131786, 0.01250843, -0.005052679, -0.013204187, 0.011970654, -0.00028409314, -0.009320604, -0.008592483, 0.017825132, -0.01621604, -0.012131837, -0.00029259457, -0.00602884, -3.458263e-05, 0.014053575, -0.010528569, -0.0039635715, 0.0056118486, 0.0061263954, 0.005920068, 0.010597492, 0.013733323, -0.011653909, -0.0024565666, 0.0022338605, 0.00057261746, -0.0051855315, 0.010194318, 0.0035342805, -0.0074741044, -0.006984335, -0.013104169, -0.004809761, -0.009927748, 0.00683956, -0.0117933685, 0.014632064, -0.0037094469, -0.0037211666, -0.010434314, 0.003510158, 0.02015732, 0.0069984323, -0.012519246, 0.011833016, -0.008921438, -3.265124e-05, -0.009161587, 0.009860996, 0.002079858, 0.010352068, -0.011359178, -0.0051373066, -0.0053145243, -0.024812194, -0.011995381, 0.02953235, 0.018758466, 0.01979009, 0.007829373, -0.019434894, 0.012214557, -0.026012026, 0.003942276, 0.023416404, -0.0005920656, -0.003508368, 0.00053649355, -0.018152613, 0.014384834, -0.010917809, -0.013402711, -0.003503294, -0.013075917, -0.01552047, 0.0009676649, -0.015397436, -0.024937812, -0.011817085, -0.0052920403, 0.01948949, -0.016454326, -0.0012058219, 0.020995425, 0.0060539506, 0.016769936, -0.0061098672, -0.0005785901, -0.007455624, 0.0016158924, -0.0112895435, -0.0013767557, -0.0035531747, -0.008995903, -0.007478693, -0.009790275, 0.012801124, 0.0025056812, 0.0025060053, 0.012193524, 0.01803861, 0.019113453, 0.09924366, 0.002510576, 0.009418916, 0.0060321153, 0.00752755, -0.008817582, 0.0041976254, 0.003873379, 0.011448727, -0.0031011407, 0.0071622985, 0.00038984427, -0.0025348908, -0.01394293, -0.0048732064, 0.018508198, 0.0008097646, -0.002135543, 0.00876838, -0.0021043285, -0.018835474, 0.013701611, -0.023047283, -0.0058445213, 0.017779509, -0.0019979144, 0.0080908425, -0.0071959663, 0.005039347, 0.013743946, -0.002314971, 0.0055737463, -0.0008036013, 0.0038041538, -0.02081722, 0.007777633, -0.00799509, -0.0020129143, -0.014773309, 0.0262773, -0.016597679, 0.010867141, -0.0073150406, -0.00073833903, -0.00049204676, 0.013148104, -0.0018987848, -0.008197046, -0.002005166, 0.0118590705, 0.006251322, -0.010288422, -0.010310602, 0.0031316825, -0.01602065, 0.0036918384, -0.0057655587, 0.012291343, -0.0096585285, -0.00041801852, 0.009843959, 0.008376928, -0.01045353, -0.0049621575, 0.013434335, -0.016979871, -0.00021720743, 0.004651058, -0.008740395, 0.003356016, 0.0034639575, -0.00846078, 0.0045999326, 0.0016260459, 0.02777895, 0.0033544046, -0.0035403965, -0.0064234086, -0.030683337, -0.0044462355, 0.008341665, 0.017277664, 0.0022586475, 0.009638487, 0.004921373, 0.0011314026, -0.003430666, 0.005761904, 0.01053145, -0.0006280168, -0.0015074532, -0.011656044, 0.0047278856, 0.018368859, 0.00025676208, -0.00052758184, 0.093221806, -0.0035961685, 0.0055284346, -0.0067281914, 0.01539668, -0.0047297534, 0.0031369766, 0.000790333, 0.013751305, -0.0043395087, 0.010499429, -8.00736e-05, 0.009575372, 0.009199306, -0.0058277315, -0.005443666, 0.0033798171, 0.0064659994, -0.0011140973, 0.0038208745, 0.01490939, 0.005601652, -0.017827557, -0.0022614624, 0.010888244, -0.023571484, -0.01399931, -0.013236673, -0.0042125722, -0.0033666042, -0.00497144, 0.0030825185, 0.009709746, 0.01178684, 0.0042531444, -0.0044187666, -0.0025677907, 0.0043906206, 0.010934091, 0.0025428694, -0.016796252, 0.0011920817, 0.014840599, 0.0036611008, -0.011648755, -0.009310432, -0.008234515, 0.0073636044, 0.014622576, 0.008468254, 0.003669517, 0.006765378, 0.014202607, -0.012933915, -0.0037904666, -0.0036653157, 0.006881791, 0.015392088, -0.020542515, 0.002889979, 0.01616707, -0.007570343, -0.0016269749, 0.0024535132, 0.005104038, 0.017341506, -0.010964369, -0.013820592, 0.015244471, -0.0012191068, 0.0025331865, 0.0069343364, -0.0031618653, -0.01068028, -0.0049357093, 0.0063692555, 0.002334585, -0.007790479, 0.00029426996, 0.031367246, 0.0145427445, 0.010370914, 0.009638439, 0.005800619, -0.006148344, 0.025867494, -0.006159346, 0.0069542346, -0.03564425, -0.0038380027, 0.029531617, -0.007633238, 0.004102994, -0.01752555, 0.005891611, -0.0079803625, 0.0032249482, -0.014102339, -0.016104272, -0.002538018, 0.015184888, -0.004933992, 0.023779484, -0.0007256213, -0.026388736, 0.012544901, 0.004957937, -0.017717615, -0.00084686605, 0.004420247, 0.0022135773, 0.022807084, -0.005082715, -0.01844268, -0.021962108, -0.013277953, 0.0076719015, -0.00528543, 0.017376814, 0.005149044, -0.000717505, -0.00022882229, -0.00438014, -0.004456099, -0.004371111, -0.00031412335, 0.020312756, 0.003489268, 0.00070689496, 0.011149362, -0.01430362, 0.011879086, -0.010000079, -0.0048635215, -0.0025052954, 0.00731664, -0.010255664, 0.0026007912, -0.0098637715, -0.013846479, -0.007063663, 0.015492722, -0.0059612854, 0.009429332, 0.021891218, -0.008954651, 0.01879914, -0.011064923, 0.0055731507, -0.010880014, 0.0076127835, 0.003363839, -0.02035445, -0.0066739507, 0.006019219, 0.01386645, 0.013038606, 0.011079713, 0.0030569893, 0.004596975, 0.0013868292, -0.07513239, 0.0062017455, -0.002309811, 0.013579357, 0.009562537, -0.0047881813, -0.001278708, 0.0029404068, 0.0068662036, 0.010899705, -0.0036538187, 0.008626181, 0.011277421, 0.001104699, 0.007690291, -0.0112708695, -0.013065894, 0.012504811, 0.007546512, -0.005771322, 0.0009983575, 0.002773603, 0.003085767, -0.016721934, 0.00062931987, 0.0015653791, 0.012907089, 0.0019573248, -0.006156292, 0.001089525, -0.008297842, 0.009508956, 0.0022601753, 0.018733678, 0.002137252, 0.010718705, -0.026663741, 0.0045484784, -0.0035020467, -0.00900077, -0.0011123325, 0.011807453, 0.0067527303, 0.014022796, -0.014680758, -0.004588646, 0.010309346, -0.017842393, 0.0010484327, -0.0012989574, 0.00045418023, 0.004158998, -0.0017005238, 0.0023495913, 0.013422087, 0.0014478274, -0.007448917, 0.008448928, -0.008551781, -0.021448215, -0.004477846, -0.0066363625, 0.003345509, -0.0076418524, -0.0020214107, 0.0013472543, -0.0036118866, -0.01827446, -0.013031785, 0.020831643, 0.019338515, -0.001455947, 0.014696853, 0.010346747, 0.005742727, -0.0006507569, 0.01719552, 0.010268225, 0.0045686928, -0.009788394, -0.010495964, 0.017193938, 0.003815703, 0.0008081703, -0.0063767442, 0.00424253, -0.018214751, -0.002686836, -0.026604418, -0.0025576295, -0.015948169, 0.00033008674, -0.00804775, 0.015472559, 0.0040026037, 0.018648682, -0.014324519, 0.011946346, 0.0035647918, -0.0046578967, -0.013083525, -0.032917973, -0.00077038363, -0.0013589573, -0.012531018, 0.013571911, -0.006619628, -0.0038727517, 0.00600378, 0.008495515, 0.00362389, -0.0016072426, 0.019020686, -0.0014640883, -0.005393674, -0.0012196016, -0.0037124432, -0.017886179, 0.007843683, 0.0026158732, -0.0064761383, 0.0115329875, 0.0063437694, -0.006868354, 0.011836026, 0.0013656403, 0.004544401, 0.0117203, 0.0029133423, -0.016756937, -0.005816806, 0.003877466, 0.0003181193, -0.0020236985, -0.022695068, 0.013833836, -0.0059516914, -0.012048425, -0.0149818035, 0.011031622, 0.01727228, -0.021755308, 0.012614129, -0.0005088943, -0.008459916, 0.00011778099, -0.021380858, 0.0028145863, 0.006195901, 0.013256734, 0.0051566977, 0.0177998, 0.02132928, -0.0012270965, 0.0115010245, -0.007285678, -0.017238028, 0.00065807824, -0.0103557855, -0.009021504, 0.0019652362, 0.007191588, 0.006847659, -0.013016364, -0.009339947, 0.0029300635, -0.0071366183, 5.432189e-05, -0.007982028, -0.0029542253, 0.001107304, 0.011488173, -0.0024676467, 0.017666226, 0.011162361, -0.0035248906, -0.025257008, 0.0042492077, -0.0040546595, -0.002692668, -0.008737986, 0.0024022213, -0.0035788638, 0.007942227, -0.000747076, -0.007933529, -0.0074291187, -0.0018838686, -0.008590777, -0.00247094, 0.0030309574, -0.012578844, -0.0011947036, 0.0050608907, 0.016461343, -0.006306743, 0.017403532, 0.005796871, 0.008016408, -0.022047333, -0.027447129, -0.005906305, 0.011593706, 0.0070931152, -0.0035205856, -0.0929841, -0.0067760968, -0.0071210964, -0.015441943, -0.0015780604, 0.0044292575, -0.004644244, 0.009840936, -0.0069861654, 0.01858705, -0.008700009, -0.012660703, -0.0065520345, -0.031225698, 0.0073831663, 0.003276098, 0.0080043, -0.0061701136, -0.0072477367, 0.0065758224, -0.01202964, 0.0022668312, 0.012971452, 0.01615031, -0.010882474, -0.0061591673, -0.011468952, -0.0024464878, -0.0033066196, 0.0012348195, -0.023649806, -0.019193072, 0.008923395, -0.01057373, -0.005033651, 0.0071157115, 0.011173903, 0.0056181517, -0.13841043, 0.0003692421, -0.0012041652, 0.017056098, -0.019791769, -0.017023247, 0.005606679, 0.005181882, 0.02036336, 0.007868567, -0.0065998347, -0.0037389596, -0.003925933, -0.007975251, -0.004509524, -0.016943237, 0.0023330543, 0.00065363245, 0.0041134288, -0.0031485506, -0.011340465, 0.0038409797, -0.007952161, 0.011199224, 0.013519163, 0.00040831874, 0.012031194, -0.0016658505, -0.005704521, -0.0060979766, 0.004422542, 0.0011913102, 0.0044967113, 0.0120761255, -0.015049772, -0.0029600137, -0.009967884, 0.0025009348, -0.009367975, 0.0016113428, -0.0010778975, 0.00879509, 0.005071807, 0.0037926165, -0.0060371077, -0.0024999194, 0.006102775, -2.4916224e-05, -0.011368938, 0.0038503206, -0.000830435, 0.009413506, 0.0033040638, 0.0059875255, -0.019260367, -0.0065612686, 0.004920914, 0.018037047, 0.00558565, 0.0042124884, -0.005156814, -0.0106937075, 0.024483612, -0.00025930535, 0.005216501, -0.009085832, 0.019065911, 0.023832902, -0.010074299, 0.014606003, 0.0038265998, -0.0009847214, 0.008372732, -0.017577894, 0.013397878, -0.0032276306, 0.00050527527, 0.004775846, 0.004328111, -0.014693551, 0.00745051, -0.00687873, 0.0023951477, 0.01013428, 0.0016750825, -0.000780644, -0.007788345, -0.0064134165, 0.007071057, -0.046419773, -0.0134117305, -1.2591327e-05, 0.020907, 0.0036014328, 0.01914965, -0.005134832, -0.02474043, 0.018601373, -0.016400386, -0.0060063396, -0.01117969, 0.0031250163, -0.014080733, -0.014529989, -0.00019371578, 0.006021875, -0.011187487, -0.0053958776, -0.023070361, -0.0053551486, -0.030382594, 0.008872965, 0.005662148, 0.024356136, -0.026570082, 0.0021596886, -0.00044836258, 0.018541468, -0.021074904, -0.0019770458, 0.025919938, 0.019913115, 0.012833254, 0.0065920344, -0.020070333, -0.0010451027, 0.010387068, -0.008411184, -0.023579381, -0.0021162215, -0.021707857, 0.010486187, -0.013258255, 0.0075214147, -0.00285343, -0.018494476, -0.005232404, 0.011513717, 0.010971496, -0.017829932, 0.014712432, -0.013138212, 0.0008209831, -0.0101642385, 0.009046274, 0.01400737, -5.5633383e-05, 0.0053881397, 0.011187281, 0.00459705, -0.005537659, 0.012273533, 0.0023154956, 0.0077840583, 0.0037801445, -0.019530373, -0.012152195, -0.0026270505, 0.011566711, -0.0155943, 0.007368383, -0.016161086, -0.0011648461, -0.017725827, 0.0052252025, 0.0063786074, -0.013171175, -0.014590525, -0.008475625, 0.010229495, 0.014825074, -0.009137566, 0.0048306296, -0.0072826426, -0.006044421, -0.004510373, -0.0024411916, -0.016876929, -0.007533107, 0.0022037015, -0.020552794, -0.0033891299, -0.0025417956, -0.01982316, -0.016063863, -0.005636153, 0.0027321638, -0.021596942, -0.019987393, -0.014854218, 0.013834157, 0.010730561, -0.0059240223, 0.0034126802, -0.022991855, 0.015354697, 0.0021659022, 0.004846397, -0.0067965863, -0.0016338807, -0.005754733, -0.016647011, -0.016858596, -0.13669415, -0.01262321, -0.030563826, -0.015971346, 0.0021010926, -0.029757254, 0.015942357, 0.0012808272, 0.016352888, -0.013159983, 0.0033047965, -0.005580857, 0.011399394, -0.013012642, 0.008776594, 0.0022626203, -0.0005372631, -0.022004582, 0.0065593882, -0.021045357, -0.035465445, -0.010119817, 0.017793857, 0.0036995793, 0.0132873235, 0.007464374, 0.0129323825, -0.0041662394, -0.00045475745, -0.0047980133, 0.009555009, -0.010069704, -0.0057551567, -0.0083250245, 0.004258191, -0.002458258, -0.027935581, -0.0012155783, -0.0037819252, 0.0064049163, -0.0046755555, 0.009447853, 0.0076640043, 0.0008117485, -0.002601848, 0.0041538114, -0.0064336583, -0.005175259, -0.03010367, 0.0030633926, 0.013928122, 0.0022421528, -0.0077194, -0.0083494, 0.019101486, -0.002189795, -0.006183288, -0.0037359684, 0.009980733, -0.013934159, -0.032040015, -0.020764688, 0.026071344, -0.008872404, 0.0035286811, -0.015049452, -0.01501897, 0.16228697, -0.013001, -0.010854665, 0.0057025994, 0.002987575, 0.012835674, 0.005056185, -0.030624485, 0.0064821644, -0.025713103, 0.016809754, -0.012527244, -0.0018687726, 0.013867788, -0.021256156, -0.0062050913, 0.005910052, -0.0038731461, 0.021560233, 0.011385845, 0.0047005774, 0.013582033, 0.02323475, -0.027274318, 0.030949127, -0.01248432, 0.01916666, -0.00038807603, 0.019814646, 0.0065832273, 0.0017454005, -0.0037991616, -0.0030001588, 0.0066678203, -0.011955392, -0.020452663, 0.002724509, -0.010347227, 0.011713842, 0.010318031, 0.012361275, 0.019699955, -0.0009354679, -0.01600719, -0.005561148, 0.015431922, -0.005494447, 0.0029043364, -0.01941343, 0.011941355, -0.018036656, -0.026506087, 0.008818974, 0.0069303005, -0.009709282, -0.001177344, 0.0064866915, 0.015202905, 0.012520379, -0.0055323895, -0.0050907847, 0.008802736, 0.017297408, -0.00029678782, 0.011477556, -0.00451411, 0.0009928034, 0.0070667807, 0.013236354, -0.120779686, 0.027883762, -0.02693908, -0.010181864, -0.015915254, 0.017039785, 0.0017024659, -0.0016723349, -0.0044696, -0.025232017, -0.009153606, -0.008907378, -0.013923497, 0.007636192, -0.025074286, -0.004829463, -0.008514357, -0.015436567, -0.0065477868, 0.011751461, 0.006582821, 0.009600724, 0.005250482, -0.008771336, 0.0056969402, -0.006055861, -0.0007855545, 0.012015869, 0.0069042193, 0.0066701286, -0.017646614, 0.0028217204, 0.006952793, 0.0026833895, -0.018157987, 0.006269109, -0.006311571, -9.909763e-06, 0.004331127, -0.008628521, 0.010284613, 0.00097022345, 0.004791783, 0.004984477, 0.007079112, 0.030040497, 0.010615093, 0.00023061718, 0.010542352, -0.014661899, 0.017581562, -0.007361748, -0.020707222, 0.0061725276, -0.011747408, 0.0011615237, 0.0093929805, -0.006524762, 0.009041668, -0.013780001, 0.0071803327, 0.009633123, -0.00062649755, 0.006294085, 0.0031266145, 0.0004934066, -0.014054749, -0.010816043, 0.010998735, -0.011258102, -0.008388218, -0.01589849, 0.00447454, -0.0041817534, -0.0104792155, -0.0045979773, -0.0005829936, 0.024944339, -0.009391728, 0.0023583353, 0.015196138, -0.019850321, 0.0044933213, 0.007691995, 0.0060807643, -0.0061914823, 0.008294734, 0.0042311936, 0.018661918, -0.007960677, 0.014384069, 0.0002322916, -0.023748426, 0.018920539, -0.021169096, 0.01615327, -0.01433801, 0.029352915, -0.010222276, -0.0021526902, -0.006517558, -0.00469774, 0.0063946345, 0.0047455863, -0.01038849, 0.004368519, -0.014412864, 0.015057496, -0.019968271, -0.007734105, -0.006950143, -0.004520636, 0.0055066347, -0.012724872, 0.00048041064, 0.02735712, -0.00024152717, -0.010114297, -0.00061697554, 0.004071784, 0.01670375, -0.01563889, -0.01917679, -0.0007521172, 0.016229125, -0.008784556, 0.016457463, 0.010804184, 0.012696863, 0.012241464, -0.004714879, -0.0034974006, -0.0026594892, 0.017863834, 0.00036467973, 0.015270424, 0.013827911, 0.023940722, 0.003896592, -0.011230219, -0.0018210496, 0.007252072, 0.017170193, 0.020939704, -0.0073332684, 0.007513995, 0.012064359, 0.018742915, -0.0135533055, 0.0014030021, 0.02787901, 0.0038398223, -0.010205951, 0.0015959555, 0.0077507985, -0.011836703, 0.0021169349, 0.0060335835, -0.0038583623, 0.03999787, -0.0029202506, 0.0073669087, 0.008222595, 0.0029693714, 0.0036215193, -0.023842793, 0.0030733324, 0.008506314, -0.02468687, -0.013823762, -0.0035359163, 0.006964166, 0.014758435, -0.01628031, -0.001255721, -0.0060071517, 0.016317876, -0.009908252, -0.0003764641, -0.07244587, -0.0040552462, 0.002675918, 0.004152515, -0.017674739, 0.015450465, -0.013147248, 0.016018111, -0.0050789095, -0.0063157366, 0.005488584, -0.015111509, -0.010547921, -0.02268265, 0.0006787695, 0.0036962624, -0.013406954, 0.008743219, -0.0074846977, 0.003928668, -0.015937466, -0.0005395813, -0.010414513, 0.0008230595, 0.0009432197, -0.0053159, -0.0011331714, 0.029405346, 0.01222511, 0.009858459, -0.015821164, 0.0057893423, 0.0013984911, -0.023462828, 0.017247848, -0.01654316, 0.0066913674, -0.016316421, 0.011094072, -0.06755076, 0.008131271, -0.0013920414, -0.09279385, 3.8296752e-05, 0.010263824, -0.015902039, 0.010486541, -0.0012378814, -0.00025269744, 0.006874856, 0.0023275327, -0.0042869705, -0.017242054, -0.010018326, 0.01193224, -0.008814058, -0.0044930363, -0.024563571, 0.003437662, -0.00790343, -0.0007401451, -0.008310268, -0.006443374, 0.0043195966, 0.009312871, 0.02055988, 0.017765658, -0.0043426217, -0.004830074, 0.016504547, -0.01702157, 0.010275986, -0.0017669303, -0.012866556, -0.004041277, -0.022166532, 0.002249541, -0.0028127253, -0.0009933045, 0.02017038, -0.0066224895, 0.0042608264, 0.0049372152, 0.016251337, 0.009827452, -0.0009857712, -0.023252131, -0.12359712, 0.0028935533, 0.018396322, 0.008247916, -0.001911564, 0.019316038, 0.007876532, 0.0990965, -0.01337418, 0.0029337096, -0.007661001, 0.0064034825, 0.011648808, -0.018079527, -0.0053747664, 0.0009180345, 0.013515006, -0.020838115, 0.030044995, 0.0031679817, -0.01927312, -0.017241681, 0.011765014, 0.002550209, -0.0022342186, -0.06866002, -0.0009520447, 0.013273412, 8.7530585e-05, 0.0072040525, -0.008555316, 0.009039573, 0.002979403, 0.01195639, 0.010683818, -0.0069171027, -0.009076002, -0.008089861, 0.017454596, 0.012589062, 0.013139494, -0.0013930268, 0.007880596, -0.007041898, -0.031868026, 0.0004870094, 0.017361365, 0.0035528746, -0.0034877053, -0.024589619, -0.028117757, 0.018523168, -8.3987215e-05, 0.012766108, 0.017257443, 0.016264152, -0.0047788527, -0.016364355, 0.009700509, -0.0048281243, -0.012933227, 0.017047202, 0.0052624494, -0.0061704465, -0.02050138, 0.024517553, -0.009552313, -0.001526759, -0.014519424, -0.006551643, 0.003565145, 0.011769114, 0.013480419, -0.0066428166, -0.016959859, 0.0021890113, -0.0007959061, -0.00020384576, -0.015552287, -0.0014419735, -0.006708661, 0.020534562, 0.006048541, -0.0034619528, -0.017816646, -0.012123531, -0.007770866, 0.023412367, 0.007082775, -0.0043512415, -0.007771163, -0.0069813556, -0.0027627551, -0.0005979772, 1.7842824e-05, -0.01873179, -0.013238791, -0.005282184, 0.008682796, -0.0016671143, -0.0034673596, -0.005546092, -0.0029553804, 0.010563666, 0.021158097, -0.017407272, -0.002513934, -0.004224407, 0.014200261, -0.01994393, 0.012821129, -0.00032279704, 0.0043585715, -0.0035249945, -0.010033662, -0.00690947, 0.01953695, 0.001698226, 0.0026567096, 8.38731e-05, -0.018938739, -0.008667064, -0.009102709, -0.014896926, -0.019727139, 0.0028114244, 0.0019167132, 0.00937073, 0.00069121644, 0.007994925, 0.005141148, 0.0017136527, 0.010084838, -0.024821356, -0.0024176405, 0.011068877, 0.030725904, -0.0021260362, -0.01924798, -0.00041649715, -0.024369275, -0.016248684, 0.004065076, -0.0028414296, 0.006919964, -0.007418226, 0.0062952954, -0.012998304, -0.0037515122, -0.002198207, -0.015221339, 0.021197101, 0.014819511, 0.01313609, -0.0003256075, 0.010478624, -0.006855419, 0.011927193, 0.016424464, -0.012139773, -0.00059932616, -0.018458247, -0.013892924, -0.00137208, 0.029540643, 0.027104944, -0.005708603, -0.024713635, 0.00958764, -0.0118762925, 0.018991679, -0.007950936, -0.023196483, 0.009257322, 0.041340366, 0.014554636, -0.005671176, -0.03225491, 0.007468936, -0.008660528, 0.016257927, 0.0026075447, -0.004446595, 0.013874547, 0.00029534963, -0.024494456, 0.016044315, -0.009088486, -0.0063168593, 0.038823072, -0.010422424, -0.011537164, 0.013352682, 0.0052583204, 0.0035429893, -0.010407747, 0.009400108, 0.029737463, -0.0043244427, -0.011356092, 0.0007144314, -0.025534736, 0.02304998, -0.0059599886, -0.0044542444, 0.014485831, -0.037035648, 0.0071760355, -0.025578465, -0.013682995, 0.007235262, 0.0013728784, 0.003739083, 0.025132768, -0.013724695, -0.02065656, 0.0040340205, -0.0046532713, 0.0053690583, -0.002856602, 0.011316447, 0.03144543, 0.023099532, 0.008544745, -0.012631288, 0.0049698157, 0.0100712925, -0.001569596, 0.022751793, -0.010694034, -0.0008575749, -0.012129381, -0.018982349, 0.027409302, -0.016762827, 0.0039959443, 0.011620342, -0.014834626, -0.011074947, 0.0018315222, 0.0074758776, 0.012387883, -0.0036296183, 0.01470187, -0.015161957, -0.00880593, 0.006806232, -0.02587062, 0.017130809, 0.03441078, 0.019968595, 0.0048309304, -0.019425008, -0.004859487, -0.019618623, -0.0045688036, 0.010574006, 0.0020840662, -4.1549996e-05, -0.0117801195, 0.019549677, 0.005813553, 0.006935035, 0.0071741734, 0.004995092, -0.026715696, -0.0046516955, 0.019578446, 0.021625213, -0.003049538, 0.014478006, 0.0068629663, -0.016898114, 0.005609937, 0.0069122817, -0.0062194425, -0.004572327, 0.014954672, -0.021238782, 0.026714444, 0.007340585, 0.0061985347, 0.0117897475, 0.013459628, 0.023791786, -0.0028765386, -0.0073668715, -0.0048629907, -0.015020108, -0.008058781, 0.019089296, 0.013819751, 0.0077776955, -0.013977616, -0.012160556, 9.249693e-05, 0.009118362, -0.007345334, 0.0034842354, -0.01901922, -0.010754893, 0.005048497, 0.0077823987, -0.005533325, 0.004196773, -0.012336677, 0.0027341852, -0.025478886, -0.0036328787, -0.023208968, -0.00099969, 0.009733265, 0.0010436538, 0.0052107633, -0.004569771, 0.0014885276, -0.0039666668, 0.008663939, -0.016871234, 0.0024820038, 0.0024322423, -0.022670316, 0.008744161, -0.002478168, 0.025898691, 0.01997136, -0.01906932, 0.004773092, 0.00582623, -0.0017758294, -0.011371694, -0.019563075, 0.01641245, -0.0075544333, 0.0012246832, 0.0047762883, 0.009900845, 0.040529978, -0.020422805, -0.0058975443, -0.011785033, 0.01419444, 0.008273165, 0.008076391, -0.014444221, -0.00515163, 0.0015694081, 0.011076499, -0.009870969, -0.02086244, -0.014285271, 0.014954977, -0.01148234, -0.002475041, 0.0069728186, 0.0033894526, 0.021861942, -0.0009998118, -0.023271222, -0.00818697, -0.005619197, 0.015523286, -0.01823178, 0.008449107, 0.0028932022, -0.01669408, 0.016003976, -0.012777923, -0.004840059, -0.0025321338, -0.015239155, 0.014015762, 0.010282029, -0.010816494, -0.0046198033, 0.010568491, -0.0035507912, 0.0035343918, 0.010008587, -0.006230098, -0.0059450637, 0.0046655606, 0.008335228, 0.0059551406, -0.011398848, -0.012955798, 0.006680721, -0.0022328515, -0.0032886593, -0.008725728, 0.0047715805, 0.0035634888, 0.0125467945, -0.0023351603, -0.010905591, 0.011156104, 0.014387307, -0.005341153, 0.014885324, 0.0056022643, 0.024751047, -0.014390342, 0.02122479, 0.009668901, -0.0072594667, 0.029659986, 0.0016648613, -0.007974306, -0.024672594, 0.015477657, -0.01611847, 0.0030260049, -0.017827507, -0.004932785, -0.047724612, 0.017269138, -0.008818517, 0.016983265, 0.004216707, -0.030080287, -0.004529339, 0.01960951, -0.0051418324, 0.033747315, 0.0075821155, 0.0049886503, -0.022884103, -0.008378859, 0.021475643, -0.016626984, -0.0037621923, -0.0036876954, -0.0005321652, 0.012938448, 0.007378863, -0.010836743, -0.00086467294, 0.022841575, 0.00038712984, 0.020205602, 0.002575144, 0.0047162273, -0.0020831984, 0.01245577, 0.005779349, -0.020366529, -0.014619405, 0.018306158, 0.017768547, 0.00988036, 0.0054474142, 0.0021918614, -0.009781849, 0.007598865, 0.012259194, -0.022273406, -0.00662014, 0.0040043187, 0.016796188, -0.0049054935, 0.0020883973, 0.017845297, 0.02574694, 0.0061330963, -0.024663184, -0.009370938, -0.010263092, -0.019162273, -0.0024752407, 0.01119088, -0.057893652, 0.009807974, -0.02902056, 0.011597699, 0.0050016833, -0.009712163, -0.011521383, 0.004742606, -0.00743295, -0.051589206, 0.018278496, 0.009519034, -0.010186627, -0.0057391827, 0.014366886, 0.008373129, -0.004002469, 0.0047365986, -0.024323044, 0.0015440547, -0.0011303511, -0.012166478, -0.02484162, 0.0037481084, 0.008135903, 0.0075049195, 0.028383074, 0.0183507, -0.0057041747, 0.008442368, -0.020326938, -0.00031762582, 0.027980804, -0.007829278, -0.0026547601, 0.013798993, 0.0013839871, 0.011042408, 0.013321273, -0.017703762, -0.0053672693, 0.003005394, -0.008965696, -0.0050545805, 0.020135885, 0.011011332, -0.003795044, 0.012694005, -0.011786562, 0.004752468, -0.010428293, 0.0029012875, -0.021228835, 0.017068768, 0.017103495, 0.0006205129, -0.0127573, -0.011264998, -0.011354634, -0.004632764, -0.0022794076, 0.013005234, -0.0050069443, -0.018530246, -0.01075829, 0.013672199, 0.017602226, 0.015743963, -0.0027878834, -0.006577081, -0.018470094, 0.02508383, 0.017317744, -0.00445085, 0.020522937, -0.029541384, -0.000951707, -0.0020101517, -0.015167552, 0.006627625, -0.023694105, -0.0071910047, -0.012330507, -0.00684142, -0.0261272, -0.012701906, 0.01180553, 0.013360595, 0.0014066836, -0.0077503445, 0.0022736161, 0.00012423498, -0.012716006, -0.01943751, -0.007882057, -0.013231469, -0.003377322, -0.0011464106, 0.0023929516, 0.0066709616, 0.0022623516, -0.007960561, 0.017092224, -0.018100807, -0.008807711, 0.0064834096, 0.015467742, -0.02101901, 0.0029143128, 0.017398484, -0.0028571452, -0.001378458, -0.010579163, -0.008523784, -0.0029322037, -0.020862097, -0.0040252763, 0.0016511714, 0.0070152837, -0.0010341494, -0.0023534002, -0.007946525, 0.0067514447, -0.0015620285, -0.019538542, 0.01765197, -0.0033095572, 0.0019704395, 0.025499497, 0.022728862, -0.0040437253, 0.000677231, 0.009629343, 0.0023824486, -0.0099594025, -0.018555202, -0.00011976266, -1.0404216e-05, 0.0029123344, -0.0069223624, -0.002731592, 0.015548368, -0.002240756, -0.0069966055, -0.01255034, 0.021411343, -0.01652771, 0.002120831, 0.008846488, -0.006927573, -0.0036555931, 0.018595608, -0.013975993, -0.002472351, 0.005177462, 0.0039341995, 0.0060661407, -0.0035375135, 0.0036007434, -0.0018268421, 0.012505384, -0.00022670343, -0.024276612, -0.00059905567, -0.02176451, -0.0053979536, 0.0065571046, -0.003070225, 0.002779774, 0.025505355, -0.013963688, -0.0011561672, 0.015386333, 0.0048443954, -0.013820707, -0.0015960914, 0.00020950426, 0.010097292, 0.015981747, -0.019759443, 0.03009663, -0.007272731, -0.023162851, -0.0066152955, 0.004429773, -0.00062282773, 0.014718371, 0.0030273586, 0.012199814, 0.003940492, -0.004807534, -0.024262223, 0.006665364, -0.008300853, 0.012514353, -0.0032068156, 0.008891539, -0.005176865, 0.003404308, -0.016603425, 0.014701882, 0.004853649, 0.007759446, -0.0063868733, -0.016261777, -0.0030330354, -0.004341452, 0.017256789, 0.01775321, -0.019100582, -0.01491432, 0.021430992, 0.018751036, 0.009810519, -0.023763405, 0.008630798, 0.17945139, 0.11779518, 0.011178639, -0.0038169299, 0.022664273, 0.016701607, -0.01769626, -0.0058652526, -0.0020966125, 0.010586676, 0.01238811, -0.0022458367, 0.013080338, -0.011531816, 0.005081111, -0.0038235562, -0.0036160653, 0.02535971, 0.000483455, 0.0028950593, -0.0152503075, 0.0064915568, 0.007651025, -0.010983877, -0.022097072, 0.009305406, 0.0008208897, -0.0098698465, -0.0032129544, 0.011476952, -0.0011817727, 0.0010740648, 0.0044593546, -0.004476589, -0.013427904, -0.016076792, -0.00974978, 0.028669668, 0.017749835, -0.00031232595, -0.004822288, -0.0036870863, 0.0049797827, -0.005681717, -0.00548136, -0.002947871, -0.00489781, 0.011804428, 0.0011182154, 0.004401299, -0.010114218, 0.0043201107, 0.020119596, 0.0011268555, -0.027800038, 0.01617987, -0.006043825, 0.016798964, -0.019740192, 0.0024456235, 0.014083866, 0.013211384, -0.022756007, -0.0047015683, -0.004107786, -0.016718406, -0.027677147, 0.011961987, 0.014595976, 0.011624997, -0.002662007, 0.012340011, -0.01737839, -0.015653506, -0.004975871, 0.008886574, 0.008721265, 0.007844657, -0.020425031, -0.031181408, -0.011886534, -0.006190864, -0.004522679, -0.027295073, -0.012171165, -0.009345217, 0.02054072, 0.027839582, 0.14667405, -0.00242656, -0.0070017115, -0.021667376, -0.00378627, -0.01365099, 0.010737242, 0.032867618, -0.00039403446, -0.010835219, 0.011788827, 0.0077444366, 0.015826503, 0.008606244, -0.0019594075, -0.0041171606, 0.010982068, 0.020673212, 0.005874281, 0.0048687914, -0.007313384, 0.00047794433, 0.012791647, -0.032385133, -0.0119585795, -0.005269472, 0.0021136957, -0.008846427, -0.006967004, 0.00046452158, -0.09966699, -0.0039990777, -0.010513469, -0.0006608511, 0.00082532514, 0.0054322183, 0.020743813, -0.006304555, 0.024899201, 0.0119128795, -0.015959324, -0.006188962, 0.033828117, -0.01382027, 0.003992996, -0.006457744, -0.0033227375, -0.030641556, -0.007954113, -0.0066142236, 0.0016946942, -0.007342999, -0.017909242, 0.0076515363, 0.0032970377, 0.01652386, -0.010740074, -0.008068881, 0.022636713, 0.01303043, -0.0071993875, 0.014276916, -0.013026906, -0.014849107, -0.0049027503, 0.014757807, 0.023237465, -0.019160602, 0.008005816, 0.0029282856, 0.005038651, -0.026230685, -0.0058183535, 0.0058400235, -0.0069319783, 0.012279853, 0.0046323068, -0.009232791, -0.035674952, -0.01158842, 0.03924904, 0.004740755, -0.013786827, 0.0072076037, -0.0243624, 0.018723667, -0.022504836, -0.018536018, 0.014545393, -0.0013710279, 0.0019607488, 0.009969179, -0.022250839, 0.0063430434, -0.008725012, -0.013876682, -0.0042903167, -0.018146731, 0.010470401, 0.0044677006, -0.0075301197, -0.012411732, -0.005171464, -0.039366923, -0.016688516, -0.0036803451, -0.00068256207, 0.011436103, -0.017181939, -0.008131324, -0.0153068565, -0.018662492, 0.0051448997, 0.13789368, 0.021536272, 0.02369632, 0.0147257615, -0.0005687273, -0.01878252, 0.0065119094, -0.01881725, 0.032889295, -0.023897441, 0.010952057, 0.00850222, 0.02683688, -0.0022153552, 0.005768548, -0.016442452, 0.01688186, -0.017932715, 0.028724056, -0.015076496, -0.0064931903, 0.004191149, 0.00016205704, -0.011747504, -0.011194925, 0.0129858265, -0.0071020396, 0.012252161, 0.015038453, -0.009177966, 0.013469343, 0.005065828, 0.008104676, -0.0077864197, -0.026858712, 0.0019636652, -0.015549894, -0.0077949055, -0.020821718, -0.017448414, -0.012599549, 0.0005515772, 0.0134287765, -0.004393509, -0.025983933, 0.19660512, -0.0033859736, 0.0019561576, 0.0036237226, 0.012686428, 0.00052285613, 0.0056932983, -0.029040687, 0.018259386, 0.030083444, 0.017362466, 0.0035976965, -0.019969711, 0.004838999, 0.0075908327, -0.008606262, 0.0027568485, 0.0065415762, 0.024585916, 0.0015464197, 0.0062707337, 0.0017792864, 0.010600515, -0.0009981706, -0.0049588163, 0.021527188, -0.0015625231, 0.0061120256, -0.0030097615, -0.0029954554, 0.009258208, 0.017168963, -0.013617124, -0.006790132, 0.00019650538, 0.009303914, -0.009743999, -0.007876878, 0.0063176705, -0.0086627845, 0.0006644801, 0.01682306, -0.009570627, 0.01330516, -0.015898786, 0.014264306, -0.010441063, 0.0026185408, 0.010461681, 0.023462405, -0.0034981186, 0.004394348, 0.0016543771, 0.022561613, -0.0072145313, -0.0031969522, 0.02169047, 0.00095203967, 0.009022821, 0.0008370052, 0.0037474567, -0.009638525, -0.008760089, -0.008758847, 0.018769234, -0.0010801628, -0.018034212], statistics=None)]\n",
            "3072\n"
          ]
        }
      ]
    },
    {
      "cell_type": "code",
      "source": [
        "\n",
        "import torch\n",
        "from transformers import AutoModelForCausalLM\n",
        "\n",
        "model = AutoModelForCausalLM.from_pretrained(\"google/gemma-3-1b-it\", torch_dtype=torch.bfloat16)"
      ],
      "metadata": {
        "colab": {
          "base_uri": "https://localhost:8080/",
          "height": 113,
          "referenced_widgets": [
            "813edd1ee0a1454393dbc1725be75047",
            "3cfd32252949429bbfdc728d562d9198",
            "47fdac83dff640dc8124eea178b4f6bb",
            "e0d291096ba64192895e6b8ddfc86d71",
            "5f895cd5c2214fccbcac30e90437a02d",
            "fab7fafe875145f58b163ec258e5f8d4",
            "fb200488213842b595776f6495cfbb50",
            "23037f9c843241d795abecf2fd2a7f75",
            "8fc16fb908ab4f1abd48e232ffc16200",
            "1a7406c04c664759b203989bf9486482",
            "5718cff2a2e14bb7ae57bb1c0069ae40",
            "2c155ac7f2364208b1ff98a0e75be766",
            "baca4f61befb4542a210b28f69b159ef",
            "a7408beaf0184bfda1f35310a1b68305",
            "761c0326358940dfba750da69a4cd985",
            "b0efeae82e12419eb3b643a7ab39ee37",
            "f10fb9061c944359a99486861b25d9fe",
            "31163e07542e45bb9a6fc4e2f9c58c7f",
            "bc148f480c3b482c81d37a0b7a6dd783",
            "b0941f2718954024bf69320626523624",
            "37c3db3253d7452882aa7c6982342d8b",
            "85d9994eaa044b39bdfb98232cf4d44a",
            "649a4c056951462c951a268c4788cb84",
            "8f456ed8ee7c4f10996eb5a6b0b2e75c",
            "c948d80325294bf98f7cd8fc1c3638a4",
            "acf0deea4fa84d8ab3a5de5a36a6fb7f",
            "9607920adf714d4a9327f8d8e0534330",
            "7702ad206c714a65bb9294e73e360ff2",
            "d4f40ee97a914b82b209c09dd92028eb",
            "857a90c015434f7c8411c9b068da2603",
            "c78c3fb61cc8400888e7bba3183f158e",
            "131c556d9fd24901bcfe58833ca848c3",
            "11fe8a6a9e7443b6b9961de79e6d1f6c"
          ]
        },
        "id": "Q8fP6kypKCJk",
        "outputId": "a334eccb-d796-46eb-a446-c5d3dc3f9879"
      },
      "execution_count": 21,
      "outputs": [
        {
          "output_type": "display_data",
          "data": {
            "text/plain": [
              "config.json:   0%|          | 0.00/899 [00:00<?, ?B/s]"
            ],
            "application/vnd.jupyter.widget-view+json": {
              "version_major": 2,
              "version_minor": 0,
              "model_id": "813edd1ee0a1454393dbc1725be75047"
            }
          },
          "metadata": {}
        },
        {
          "output_type": "display_data",
          "data": {
            "text/plain": [
              "model.safetensors:   0%|          | 0.00/2.00G [00:00<?, ?B/s]"
            ],
            "application/vnd.jupyter.widget-view+json": {
              "version_major": 2,
              "version_minor": 0,
              "model_id": "2c155ac7f2364208b1ff98a0e75be766"
            }
          },
          "metadata": {}
        },
        {
          "output_type": "display_data",
          "data": {
            "text/plain": [
              "generation_config.json:   0%|          | 0.00/215 [00:00<?, ?B/s]"
            ],
            "application/vnd.jupyter.widget-view+json": {
              "version_major": 2,
              "version_minor": 0,
              "model_id": "649a4c056951462c951a268c4788cb84"
            }
          },
          "metadata": {}
        }
      ]
    },
    {
      "cell_type": "code",
      "source": [
        "from transformers import AutoTokenizer, AutoModelForCausalLM\n",
        "\n",
        "tokenizer = AutoTokenizer.from_pretrained(\"google/gemma-3-27b-it\")\n",
        "model = AutoModelForCausalLM.from_pretrained(\"google/gemma-3-1b-it\")\n",
        "\n",
        "input_tokens = tokenizer(\"write a python code for adding 2 numbers\", return_tensors=\"pt\")\n",
        "input_tokens\n"
      ],
      "metadata": {
        "colab": {
          "base_uri": "https://localhost:8080/"
        },
        "id": "b5Ljevn7QoBd",
        "outputId": "0c9bf7f3-9b74-4461-8e94-485c7fd7ecb5"
      },
      "execution_count": 33,
      "outputs": [
        {
          "output_type": "execute_result",
          "data": {
            "text/plain": [
              "{'input_ids': tensor([[     2,   5986,    496,  23181,   3393,    573,   8009, 236743, 236778,\n",
              "           4945]]), 'attention_mask': tensor([[1, 1, 1, 1, 1, 1, 1, 1, 1, 1]])}"
            ]
          },
          "metadata": {},
          "execution_count": 33
        }
      ]
    },
    {
      "cell_type": "code",
      "source": [
        "out = model(input_ids=input_tokens[\"input_ids\"])\n",
        "# only model gives all linear\n",
        "\n",
        "print(out)\n",
        "\n",
        "# all this are linears below"
      ],
      "metadata": {
        "colab": {
          "base_uri": "https://localhost:8080/"
        },
        "id": "D0DXmr8HRFNS",
        "outputId": "7119a49c-81cd-42ae-8d1b-3c74a8e1ff11"
      },
      "execution_count": 34,
      "outputs": [
        {
          "output_type": "stream",
          "name": "stdout",
          "text": [
            "CausalLMOutputWithPast(loss=None, logits=tensor([[[-14.2266,  -1.1276,   4.6604,  ..., -14.7097, -14.7547, -14.6708],\n",
            "         [-15.1654,  -3.5582,  -2.7689,  ..., -15.7508, -15.7075, -15.6461],\n",
            "         [-13.0947,  -1.9868,  -4.7474,  ..., -14.8744, -14.8597, -14.7893],\n",
            "         ...,\n",
            "         [-11.1661,   1.1202,   1.0321,  ..., -12.3541, -12.2692, -12.3469],\n",
            "         [-17.7597,  -2.8388,  -2.7308,  ..., -19.7018, -19.7166, -19.5911],\n",
            "         [-16.3902,  -1.0508,  -1.1780,  ..., -18.8579, -18.9244, -18.7177]]],\n",
            "       grad_fn=<UnsafeViewBackward0>), past_key_values=<transformers.cache_utils.HybridCache object at 0x7c468935fa50>, hidden_states=None, attentions=None)\n"
          ]
        }
      ]
    },
    {
      "cell_type": "code",
      "source": [
        "out = model.generate(input_ids=input_tokens[\"input_ids\"],max_new_tokens = 200)\n",
        "# model.generate will give linear with higest probability\n",
        "# by default max tokens size is small so sometimes ouput may not complete so increase max tokens\n",
        "print(out)"
      ],
      "metadata": {
        "colab": {
          "base_uri": "https://localhost:8080/"
        },
        "id": "zB0UnhTmRl9L",
        "outputId": "c7195b1b-27cd-46c8-8fa7-3f8620f02f9d"
      },
      "execution_count": 38,
      "outputs": [
        {
          "output_type": "stream",
          "name": "stdout",
          "text": [
            "tensor([[     2,   5986,    496,  23181,   3393,    573,   8009, 236743, 236778,\n",
            "           4945, 236761,    108,   2717,   6719,    107,   2063,   1138, 236779,\n",
            "          34488, 236769, 236781, 236764,    570,   1473,    107,    138,  12234,\n",
            "         174054,   1156,   4945,   3075, 236761,    108,    138,  13432, 236787,\n",
            "            107,    140, 236781, 236787,    669,   1171,   1548, 236761,    107,\n",
            "            140, 236762, 236787,    669,   1855,   1548, 236761,    108,    138,\n",
            "          42652, 236787,    107,    140,    818,   2324,    529,   1123,    532,\n",
            "            570, 236761,    107,    138,  12234,    107,    138,   2330,    578,\n",
            "           1123,    900,    570,    107,    138,   2060,   2324,    108, 236865,\n",
            "          14691,  14120,    107,   3744, 236770,    578, 236743, 236810,    107,\n",
            "           3744, 236778,    578, 236743, 236800,    107,   3709,    578,   1138,\n",
            "         236779,  34488, 236769,   3744, 236770, 236764,   1152, 236778, 236768,\n",
            "            107,   1995, 236769,   3709, 236768,    138, 236865,  16887, 236787,\n",
            "         236743, 236828,    107,   2717,    108,   1018,  44008,  53121,    108,\n",
            "         236770, 236761,    138,   1018, 236929,   2063,   1138, 236779,  34488,\n",
            "         236769, 236781, 236764,    570,   1473, 236929,  66515,   1174,   1757,\n",
            "          23669,    496,   1292,   7489,   2165,   1282, 236779,  34488, 236929,\n",
            "            600,   4716,   1156,  12130, 236764,   2165, 236781, 236929,    532,\n",
            "           2165, 236762,  21233,    107, 236778, 236761,    138,   1018, 236929,\n",
            "          12234, 174054,   1156,   4945,   3075,   1390,  12234, 236929,  66515,\n",
            "           1174,    563,    496,   6484,   2383,    600,  15948,   1144,    506,\n",
            "           1292,   1677, 236761,    138,   1509, 236789, 236751,   1535,   5428,\n",
            "            531,   3204,   6484,  29139, 236761,    107, 236800, 236761,    138,\n",
            "           1018, 236929,   2330]])\n"
          ]
        }
      ]
    },
    {
      "cell_type": "code",
      "source": [
        "# now detokenize\n",
        "tokenizer.batch_decode(out)"
      ],
      "metadata": {
        "colab": {
          "base_uri": "https://localhost:8080/"
        },
        "id": "pF5bpCZkSLZ6",
        "outputId": "24c386f7-8767-44ee-c12a-68e2fcff604d"
      },
      "execution_count": 39,
      "outputs": [
        {
          "output_type": "execute_result",
          "data": {
            "text/plain": [
              "['<bos>write a python code for adding 2 numbers.\\n\\n```python\\ndef add_numbers(x, y):\\n  \"\"\"Adds two numbers together.\\n\\n  Args:\\n    x: The first number.\\n    y: The second number.\\n\\n  Returns:\\n    The sum of x and y.\\n  \"\"\"\\n  sum = x + y\\n  return sum\\n\\n# Example usage\\nnum1 = 5\\nnum2 = 3\\nresult = add_numbers(num1, num2)\\nprint(result)  # Output: 8\\n```\\n\\n**Explanation:**\\n\\n1.  **`def add_numbers(x, y):`**: This line defines a function named `add_numbers` that takes two arguments, `x` and `y`.\\n2.  **`\"\"\"Adds two numbers together...\"\"\"`**: This is a docstring that explains what the function does.  It\\'s good practice to include docstrings.\\n3.  **`sum']"
            ]
          },
          "metadata": {},
          "execution_count": 39
        }
      ]
    }
  ]
}