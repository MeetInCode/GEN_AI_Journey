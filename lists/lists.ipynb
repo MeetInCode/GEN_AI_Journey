{
 "cells": [
  {
   "cell_type": "markdown",
   "metadata": {},
   "source": [
    "### Lists\n",
    "\n",
    "- lists are ordered mutuable collection of items \n",
    "- they can contain items of different datattypes \n",
    "\n"
   ]
  },
  {
   "cell_type": "code",
   "execution_count": 1,
   "metadata": {},
   "outputs": [
    {
     "name": "stdout",
     "output_type": "stream",
     "text": [
      "[1, 'one', 3.14, True]\n"
     ]
    }
   ],
   "source": [
    "mix_lst=[1,'one',3.14,True]\n",
    "print(mix_lst)\n"
   ]
  },
  {
   "cell_type": "code",
   "execution_count": 3,
   "metadata": {},
   "outputs": [
    {
     "name": "stdout",
     "output_type": "stream",
     "text": [
      "10\n",
      "20\n",
      "50\n"
     ]
    }
   ],
   "source": [
    "mix_lst=[10,20,30,40,50]\n",
    "# accessing list items \n",
    "print(mix_lst[0])\n",
    "print(mix_lst[1])\n",
    "print(mix_lst[-1])\n"
   ]
  },
  {
   "cell_type": "code",
   "execution_count": 6,
   "metadata": {},
   "outputs": [
    {
     "name": "stdout",
     "output_type": "stream",
     "text": [
      "[20, 30, 40, 50]\n",
      "[10, 20, 30]\n",
      "[20, 30]\n"
     ]
    }
   ],
   "source": [
    "print(mix_lst[1:]) # all elements from index 1\n",
    "\n",
    "print(mix_lst[:3]) # all elements upto index 3\n",
    "\n",
    "print(mix_lst[1:3]) # all elements from index 1 to 3\n"
   ]
  },
  {
   "cell_type": "code",
   "execution_count": 7,
   "metadata": {},
   "outputs": [
    {
     "name": "stdout",
     "output_type": "stream",
     "text": [
      "[10, 200, 30, 40, 50]\n"
     ]
    }
   ],
   "source": [
    "#modify \n",
    "\n",
    "mix_lst[1]=200\n",
    "print(mix_lst)\n"
   ]
  },
  {
   "cell_type": "code",
   "execution_count": 8,
   "metadata": {},
   "outputs": [
    {
     "name": "stdout",
     "output_type": "stream",
     "text": [
      "[10, 200, 30, 40, 50, 60]\n"
     ]
    }
   ],
   "source": [
    "#append at last index \n",
    "\n",
    "mix_lst.append(60)\n",
    "print(mix_lst)\n"
   ]
  },
  {
   "cell_type": "code",
   "execution_count": 18,
   "metadata": {},
   "outputs": [
    {
     "name": "stdout",
     "output_type": "stream",
     "text": [
      "[10, 20, 200, 30, 40, 50, 60]\n"
     ]
    }
   ],
   "source": [
    "# insert based on index\n",
    "\n",
    "mix_lst.insert(1,20)\n",
    "print(mix_lst)\n",
    "\n"
   ]
  },
  {
   "cell_type": "code",
   "execution_count": 19,
   "metadata": {},
   "outputs": [
    {
     "name": "stdout",
     "output_type": "stream",
     "text": [
      "[10, 20, 30, 40, 50, 60]\n"
     ]
    }
   ],
   "source": [
    "mix_lst.remove(200) #removes the first occurance of 200\n",
    "print(mix_lst)\n"
   ]
  },
  {
   "cell_type": "code",
   "execution_count": 20,
   "metadata": {},
   "outputs": [
    {
     "name": "stdout",
     "output_type": "stream",
     "text": [
      "60\n",
      "[10, 20, 30, 40, 50]\n"
     ]
    }
   ],
   "source": [
    "popped = mix_lst.pop() # removes the last element\n",
    "print(popped)\n",
    "print(mix_lst)\n"
   ]
  },
  {
   "cell_type": "code",
   "execution_count": 21,
   "metadata": {},
   "outputs": [
    {
     "name": "stdout",
     "output_type": "stream",
     "text": [
      "1\n"
     ]
    }
   ],
   "source": [
    "index = mix_lst.index(20)\n",
    "print(index)\n",
    "\n"
   ]
  },
  {
   "cell_type": "code",
   "execution_count": 22,
   "metadata": {},
   "outputs": [
    {
     "data": {
      "text/plain": [
       "[10, 20, 30, 40, 50]"
      ]
     },
     "execution_count": 22,
     "metadata": {},
     "output_type": "execute_result"
    }
   ],
   "source": [
    "mix_lst\n"
   ]
  },
  {
   "cell_type": "code",
   "execution_count": 23,
   "metadata": {},
   "outputs": [
    {
     "name": "stdout",
     "output_type": "stream",
     "text": [
      "[50, 40, 30, 20, 10]\n"
     ]
    }
   ],
   "source": [
    "mix_lst.reverse()   \n",
    "print(mix_lst)\n"
   ]
  },
  {
   "cell_type": "code",
   "execution_count": 24,
   "metadata": {},
   "outputs": [
    {
     "name": "stdout",
     "output_type": "stream",
     "text": [
      "[]\n"
     ]
    }
   ],
   "source": [
    "mix_lst.clear()\n",
    "print(mix_lst)\n"
   ]
  },
  {
   "cell_type": "markdown",
   "metadata": {},
   "source": [
    "### Slicing \n"
   ]
  },
  {
   "cell_type": "code",
   "execution_count": 25,
   "metadata": {},
   "outputs": [
    {
     "name": "stdout",
     "output_type": "stream",
     "text": [
      "[3, 4, 5]\n",
      "[1, 2, 3, 4, 5]\n",
      "[6, 7, 8, 9, 10]\n",
      "[1, 3, 5, 7, 9]\n",
      "[10, 9, 8, 7, 6, 5, 4, 3, 2, 1]\n"
     ]
    }
   ],
   "source": [
    "numbers = [1, 2, 3, 4, 5, 6, 7, 8, 9, 10]\n",
    "print(numbers[2:5])\n",
    "print(numbers[:5])\n",
    "print(numbers[5:])\n",
    "print(numbers[::2])\n",
    "print(numbers[::-1]) # start from 0 index and first step is -1 so last item \n"
   ]
  },
  {
   "cell_type": "code",
   "execution_count": 26,
   "metadata": {},
   "outputs": [
    {
     "name": "stdout",
     "output_type": "stream",
     "text": [
      "[1, 4, 9, 16, 25, 36, 49, 64, 81, 100]\n"
     ]
    }
   ],
   "source": [
    "squares = [x**2 for x in numbers]\n",
    "\"\"\"\n",
    "Generates a list of squares from a given list of numbers using list comprehension.\n",
    "\n",
    "List comprehension is a concise way to create lists in Python. The general syntax is:\n",
    "    [expression for item in iterable if condition]\n",
    "\n",
    "In this case:\n",
    "    - expression: x**2 (square of the number)\n",
    "    - item: x (each number in the list 'numbers')\n",
    "    - iterable: numbers (a list of numbers)\n",
    "    - condition: (optional, not used here)\n",
    "\n",
    "Args:\n",
    "    numbers (list): A list of numbers.\n",
    "\n",
    "Returns:\n",
    "    list: A list containing the squares of the numbers in the input list.\n",
    "\"\"\"\n",
    "print(squares)\n"
   ]
  },
  {
   "cell_type": "code",
   "execution_count": null,
   "metadata": {},
   "outputs": [],
   "source": []
  },
  {
   "cell_type": "code",
   "execution_count": null,
   "metadata": {},
   "outputs": [],
   "source": []
  }
 ],
 "metadata": {
  "kernelspec": {
   "display_name": "Python 3",
   "language": "python",
   "name": "python3"
  },
  "language_info": {
   "codemirror_mode": {
    "name": "ipython",
    "version": 3
   },
   "file_extension": ".py",
   "mimetype": "text/x-python",
   "name": "python",
   "nbconvert_exporter": "python",
   "pygments_lexer": "ipython3",
   "version": "3.12.8"
  }
 },
 "nbformat": 4,
 "nbformat_minor": 2
}
