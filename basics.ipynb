{
 "cells": [
  {
   "cell_type": "code",
   "execution_count": null,
   "metadata": {},
   "outputs": [],
   "source": []
  },
  {
   "cell_type": "code",
   "execution_count": 7,
   "metadata": {},
   "outputs": [
    {
     "name": "stdout",
     "output_type": "stream",
     "text": [
      "5\n"
     ]
    },
    {
     "data": {
      "text/plain": [
       "int"
      ]
     },
     "execution_count": 7,
     "metadata": {},
     "output_type": "execute_result"
    }
   ],
   "source": [
    "## Line Continuation\n",
    "##Use a backslash (\\) to continue a statement to the next line\n",
    "\n",
    "total=1+1+1+\\\n",
    "1+1\n",
    "\n",
    "print(total)\n",
    "type(total)\n"
   ]
  },
  {
   "cell_type": "code",
   "execution_count": 8,
   "metadata": {},
   "outputs": [
    {
     "name": "stdout",
     "output_type": "stream",
     "text": [
      "<class 'int'>\n",
      "25\n",
      "<class 'str'>\n"
     ]
    }
   ],
   "source": [
    "age=25\n",
    "print(type(age))\n",
    "\n",
    "# Type conversion\n",
    "age_str=str(age)\n",
    "print(age_str)\n",
    "print(type(age_str))\n"
   ]
  },
  {
   "cell_type": "code",
   "execution_count": 1,
   "metadata": {},
   "outputs": [
    {
     "data": {
      "text/plain": [
       "5"
      ]
     },
     "execution_count": 1,
     "metadata": {},
     "output_type": "execute_result"
    }
   ],
   "source": [
    "21//4\n"
   ]
  },
  {
   "cell_type": "markdown",
   "metadata": {},
   "source": [
    ">Basic Data Types\n",
    "Integers\n",
    "Floating-point numbers\n",
    "Strings\n",
    "Booleans\n",
    ">Advanced Data Types\n",
    "Lists\n",
    "Tuples\n",
    "Sets\n",
    "Dictionaries\n",
    ">Type Conversion"
   ]
  },
  {
   "cell_type": "code",
   "execution_count": null,
   "metadata": {},
   "outputs": [],
   "source": [
    "# Basic Data Types\n",
    "# Integer\n",
    "integer_value = 10\n",
    "print(f\"Integer: {integer_value}, Type: {type(integer_value)}\")\n",
    "\n",
    "# Floating-point number\n",
    "float_value = 10.5\n",
    "print(f\"Float: {float_value}, Type: {type(float_value)}\")\n",
    "\n",
    "# String\n",
    "string_value = \"Hello, World!\"\n",
    "print(f\"String: {string_value}, Type: {type(string_value)}\")\n",
    "\n",
    "# Boolean\n",
    "boolean_value = True\n",
    "print(f\"Boolean: {boolean_value}, Type: {type(boolean_value)}\")\n",
    "\n",
    "# Advanced Data Types\n",
    "# List\n",
    "list_value = [1, 2, 3, 4, 5]\n",
    "print(f\"List: {list_value}, Type: {type(list_value)}\")\n",
    "\n",
    "# Tuple\n",
    "tuple_value = (1, 2, 3, 4, 5)\n",
    "print(f\"Tuple: {tuple_value}, Type: {type(tuple_value)}\")\n",
    "\n",
    "# Set\n",
    "set_value = {1, 2, 3, 4, 5}\n",
    "print(f\"Set: {set_value}, Type: {type(set_value)}\")\n",
    "\n",
    "# Dictionary\n",
    "dict_value = {'a': 1, 'b': 2, 'c': 3}\n",
    "print(f\"Dictionary: {dict_value}, Type: {type(dict_value)}\")\n",
    "\n",
    "# Type Conversion\n",
    "# Convert integer to float\n",
    "int_to_float = float(integer_value)\n",
    "print(f\"Convert Integer to Float: {int_to_float}, Type: {type(int_to_float)}\")\n",
    "\n",
    "# Convert float to integer\n",
    "float_to_int = int(float_value)\n",
    "print(f\"Convert Float to Integer: {float_to_int}, Type: {type(float_to_int)}\")\n",
    "\n",
    "# Convert integer to string\n",
    "int_to_str = str(integer_value)\n",
    "print(f\"Convert Integer to String: {int_to_str}, Type: {type(int_to_str)}\")\n",
    "\n",
    "# Convert string to integer\n",
    "str_to_int = int(\"123\")\n",
    "print(f\"Convert String to Integer: {str_to_int}, Type: {type(str_to_int)}\")\n"
   ]
  },
  {
   "cell_type": "code",
   "execution_count": 2,
   "metadata": {},
   "outputs": [
    {
     "name": "stdout",
     "output_type": "stream",
     "text": [
      "0\n",
      "1\n",
      "2\n",
      "3\n",
      "4\n"
     ]
    }
   ],
   "source": [
    "for i in range(5):\n",
    "    print(i)\n"
   ]
  },
  {
   "cell_type": "code",
   "execution_count": 4,
   "metadata": {},
   "outputs": [
    {
     "name": "stdout",
     "output_type": "stream",
     "text": [
      "1\n",
      "3\n",
      "5\n",
      "7\n",
      "9\n"
     ]
    }
   ],
   "source": [
    "for i in range(1,10,2):\n",
    "    print(i)\n"
   ]
  },
  {
   "cell_type": "code",
   "execution_count": 5,
   "metadata": {},
   "outputs": [
    {
     "name": "stdout",
     "output_type": "stream",
     "text": [
      "1\n",
      "3\n",
      "5\n",
      "7\n",
      "9\n"
     ]
    }
   ],
   "source": [
    "count = 1\n",
    "\n",
    "while count < 10:\n",
    "    print(count)\n",
    "    count += 2  # count = count + 1\n"
   ]
  },
  {
   "cell_type": "code",
   "execution_count": 6,
   "metadata": {},
   "outputs": [
    {
     "name": "stdout",
     "output_type": "stream",
     "text": [
      "1\n",
      "3\n",
      "5\n",
      "7\n",
      "9\n"
     ]
    }
   ],
   "source": [
    "for i in range(1, 15):\n",
    "    if i == 5:\n",
    "        pass  # pass statement does nothing, it is a placeholder\n",
    "    elif i == 10:\n",
    "        break  # break statement terminates the loop\n",
    "    elif i % 2 == 0:\n",
    "        continue  # continue statement skips the rest of the code inside the loop for the current iteration\n",
    "    print(i)\n"
   ]
  },
  {
   "cell_type": "markdown",
   "metadata": {},
   "source": [
    "### Lists\n",
    "\n",
    "- They are ordered mutable collection of items.\n",
    "- They can contain items of different data types.\n",
    "\n"
   ]
  },
  {
   "cell_type": "code",
   "execution_count": null,
   "metadata": {},
   "outputs": [],
   "source": []
  },
  {
   "cell_type": "code",
   "execution_count": null,
   "metadata": {},
   "outputs": [],
   "source": []
  },
  {
   "cell_type": "code",
   "execution_count": null,
   "metadata": {},
   "outputs": [],
   "source": []
  },
  {
   "cell_type": "code",
   "execution_count": null,
   "metadata": {},
   "outputs": [],
   "source": []
  }
 ],
 "metadata": {
  "kernelspec": {
   "display_name": "Python 3",
   "language": "python",
   "name": "python3"
  },
  "language_info": {
   "codemirror_mode": {
    "name": "ipython",
    "version": 3
   },
   "file_extension": ".py",
   "mimetype": "text/x-python",
   "name": "python",
   "nbconvert_exporter": "python",
   "pygments_lexer": "ipython3",
   "version": "3.12.8"
  }
 },
 "nbformat": 4,
 "nbformat_minor": 2
}
